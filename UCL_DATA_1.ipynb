{
  "cells": [
    {
      "cell_type": "code",
      "execution_count": 19,
      "metadata": {
        "id": "EeD3iMVipDFo"
      },
      "outputs": [],
      "source": [
        "import pandas as pd\n",
        "from datetime import datetime\n",
        "import numpy as np\n",
        "from sklearn.metrics import plot_confusion_matrix\n",
        "import matplotlib.pyplot as plt\n",
        "from sklearn.preprocessing import StandardScaler,OneHotEncoder\n",
        "from sklearn.preprocessing import MinMaxScaler\n",
        "from sklearn.ensemble import RandomForestRegressor\n",
        "from numpy import loadtxt\n",
        "from xgboost import XGBClassifier\n",
        "from sklearn.neighbors import KNeighborsClassifier\n",
        "from sklearn.linear_model import LogisticRegression\n",
        "from tensorflow import keras \n",
        "from sklearn.metrics import mean_squared_error, r2_score\n",
        "from sklearn.metrics import classification_report, recall_score,accuracy_score\n",
        "from keras.models import Sequential \n",
        "from keras import Input \n",
        "from sklearn.metrics import confusion_matrix\n",
        "import seaborn as sns\n",
        "import tensorflow as tf\n",
        "from keras.utils.vis_utils import plot_model\n",
        "from keras.layers import Dense, SimpleRNN\n",
        "from sklearn.preprocessing import LabelEncoder"
      ]
    },
    {
      "cell_type": "code",
      "source": [
        "from google.colab import drive\n",
        "drive.mount('/content/drive')"
      ],
      "metadata": {
        "colab": {
          "base_uri": "https://localhost:8080/"
        },
        "id": "Gk7BrB2npGGX",
        "outputId": "16cc2785-4613-47e7-c90c-8489db68c7de"
      },
      "execution_count": 3,
      "outputs": [
        {
          "output_type": "stream",
          "name": "stdout",
          "text": [
            "Mounted at /content/drive\n"
          ]
        }
      ]
    },
    {
      "cell_type": "code",
      "execution_count": 15,
      "metadata": {
        "id": "bMYMWmQGpDFo"
      },
      "outputs": [],
      "source": [
        "data=pd.read_csv('/content/drive/MyDrive/AIProject/olddata.csv')"
      ]
    },
    {
      "cell_type": "code",
      "execution_count": 22,
      "metadata": {
        "colab": {
          "base_uri": "https://localhost:8080/",
          "height": 357
        },
        "id": "ra7Y18jbpDFp",
        "outputId": "bc6c7c6b-e4fb-4782-9e88-54d42d22c23f"
      },
      "outputs": [
        {
          "output_type": "execute_result",
          "data": {
            "text/plain": [
              "   age     sex chest_pain_type  resting_blood_pressure  cholestoral  \\\n",
              "0   52    Male  Typical angina                     125          212   \n",
              "1   53    Male  Typical angina                     140          203   \n",
              "2   70    Male  Typical angina                     145          174   \n",
              "3   61    Male  Typical angina                     148          203   \n",
              "4   62  Female  Typical angina                     138          294   \n",
              "\n",
              "      fasting_blood_sugar               rest_ecg  Max_heart_rate  \\\n",
              "0    Lower than 120 mg/ml  ST-T wave abnormality             168   \n",
              "1  Greater than 120 mg/ml                 Normal             155   \n",
              "2    Lower than 120 mg/ml  ST-T wave abnormality             125   \n",
              "3    Lower than 120 mg/ml  ST-T wave abnormality             161   \n",
              "4  Greater than 120 mg/ml  ST-T wave abnormality             106   \n",
              "\n",
              "  exercise_induced_angina  oldpeak        slope vessels_colored_by_flourosopy  \\\n",
              "0                      No      1.0  Downsloping                           Two   \n",
              "1                     Yes      3.1    Upsloping                          Zero   \n",
              "2                     Yes      2.6    Upsloping                          Zero   \n",
              "3                      No      0.0  Downsloping                           One   \n",
              "4                      No      1.9         Flat                         Three   \n",
              "\n",
              "         thalassemia  target  \n",
              "0  Reversable Defect       0  \n",
              "1  Reversable Defect       0  \n",
              "2  Reversable Defect       0  \n",
              "3  Reversable Defect       0  \n",
              "4       Fixed Defect       0  "
            ],
            "text/html": [
              "\n",
              "  <div id=\"df-2f04b7c5-7746-41f4-8935-a8cfc4ce1a48\">\n",
              "    <div class=\"colab-df-container\">\n",
              "      <div>\n",
              "<style scoped>\n",
              "    .dataframe tbody tr th:only-of-type {\n",
              "        vertical-align: middle;\n",
              "    }\n",
              "\n",
              "    .dataframe tbody tr th {\n",
              "        vertical-align: top;\n",
              "    }\n",
              "\n",
              "    .dataframe thead th {\n",
              "        text-align: right;\n",
              "    }\n",
              "</style>\n",
              "<table border=\"1\" class=\"dataframe\">\n",
              "  <thead>\n",
              "    <tr style=\"text-align: right;\">\n",
              "      <th></th>\n",
              "      <th>age</th>\n",
              "      <th>sex</th>\n",
              "      <th>chest_pain_type</th>\n",
              "      <th>resting_blood_pressure</th>\n",
              "      <th>cholestoral</th>\n",
              "      <th>fasting_blood_sugar</th>\n",
              "      <th>rest_ecg</th>\n",
              "      <th>Max_heart_rate</th>\n",
              "      <th>exercise_induced_angina</th>\n",
              "      <th>oldpeak</th>\n",
              "      <th>slope</th>\n",
              "      <th>vessels_colored_by_flourosopy</th>\n",
              "      <th>thalassemia</th>\n",
              "      <th>target</th>\n",
              "    </tr>\n",
              "  </thead>\n",
              "  <tbody>\n",
              "    <tr>\n",
              "      <th>0</th>\n",
              "      <td>52</td>\n",
              "      <td>Male</td>\n",
              "      <td>Typical angina</td>\n",
              "      <td>125</td>\n",
              "      <td>212</td>\n",
              "      <td>Lower than 120 mg/ml</td>\n",
              "      <td>ST-T wave abnormality</td>\n",
              "      <td>168</td>\n",
              "      <td>No</td>\n",
              "      <td>1.0</td>\n",
              "      <td>Downsloping</td>\n",
              "      <td>Two</td>\n",
              "      <td>Reversable Defect</td>\n",
              "      <td>0</td>\n",
              "    </tr>\n",
              "    <tr>\n",
              "      <th>1</th>\n",
              "      <td>53</td>\n",
              "      <td>Male</td>\n",
              "      <td>Typical angina</td>\n",
              "      <td>140</td>\n",
              "      <td>203</td>\n",
              "      <td>Greater than 120 mg/ml</td>\n",
              "      <td>Normal</td>\n",
              "      <td>155</td>\n",
              "      <td>Yes</td>\n",
              "      <td>3.1</td>\n",
              "      <td>Upsloping</td>\n",
              "      <td>Zero</td>\n",
              "      <td>Reversable Defect</td>\n",
              "      <td>0</td>\n",
              "    </tr>\n",
              "    <tr>\n",
              "      <th>2</th>\n",
              "      <td>70</td>\n",
              "      <td>Male</td>\n",
              "      <td>Typical angina</td>\n",
              "      <td>145</td>\n",
              "      <td>174</td>\n",
              "      <td>Lower than 120 mg/ml</td>\n",
              "      <td>ST-T wave abnormality</td>\n",
              "      <td>125</td>\n",
              "      <td>Yes</td>\n",
              "      <td>2.6</td>\n",
              "      <td>Upsloping</td>\n",
              "      <td>Zero</td>\n",
              "      <td>Reversable Defect</td>\n",
              "      <td>0</td>\n",
              "    </tr>\n",
              "    <tr>\n",
              "      <th>3</th>\n",
              "      <td>61</td>\n",
              "      <td>Male</td>\n",
              "      <td>Typical angina</td>\n",
              "      <td>148</td>\n",
              "      <td>203</td>\n",
              "      <td>Lower than 120 mg/ml</td>\n",
              "      <td>ST-T wave abnormality</td>\n",
              "      <td>161</td>\n",
              "      <td>No</td>\n",
              "      <td>0.0</td>\n",
              "      <td>Downsloping</td>\n",
              "      <td>One</td>\n",
              "      <td>Reversable Defect</td>\n",
              "      <td>0</td>\n",
              "    </tr>\n",
              "    <tr>\n",
              "      <th>4</th>\n",
              "      <td>62</td>\n",
              "      <td>Female</td>\n",
              "      <td>Typical angina</td>\n",
              "      <td>138</td>\n",
              "      <td>294</td>\n",
              "      <td>Greater than 120 mg/ml</td>\n",
              "      <td>ST-T wave abnormality</td>\n",
              "      <td>106</td>\n",
              "      <td>No</td>\n",
              "      <td>1.9</td>\n",
              "      <td>Flat</td>\n",
              "      <td>Three</td>\n",
              "      <td>Fixed Defect</td>\n",
              "      <td>0</td>\n",
              "    </tr>\n",
              "  </tbody>\n",
              "</table>\n",
              "</div>\n",
              "      <button class=\"colab-df-convert\" onclick=\"convertToInteractive('df-2f04b7c5-7746-41f4-8935-a8cfc4ce1a48')\"\n",
              "              title=\"Convert this dataframe to an interactive table.\"\n",
              "              style=\"display:none;\">\n",
              "        \n",
              "  <svg xmlns=\"http://www.w3.org/2000/svg\" height=\"24px\"viewBox=\"0 0 24 24\"\n",
              "       width=\"24px\">\n",
              "    <path d=\"M0 0h24v24H0V0z\" fill=\"none\"/>\n",
              "    <path d=\"M18.56 5.44l.94 2.06.94-2.06 2.06-.94-2.06-.94-.94-2.06-.94 2.06-2.06.94zm-11 1L8.5 8.5l.94-2.06 2.06-.94-2.06-.94L8.5 2.5l-.94 2.06-2.06.94zm10 10l.94 2.06.94-2.06 2.06-.94-2.06-.94-.94-2.06-.94 2.06-2.06.94z\"/><path d=\"M17.41 7.96l-1.37-1.37c-.4-.4-.92-.59-1.43-.59-.52 0-1.04.2-1.43.59L10.3 9.45l-7.72 7.72c-.78.78-.78 2.05 0 2.83L4 21.41c.39.39.9.59 1.41.59.51 0 1.02-.2 1.41-.59l7.78-7.78 2.81-2.81c.8-.78.8-2.07 0-2.86zM5.41 20L4 18.59l7.72-7.72 1.47 1.35L5.41 20z\"/>\n",
              "  </svg>\n",
              "      </button>\n",
              "      \n",
              "  <style>\n",
              "    .colab-df-container {\n",
              "      display:flex;\n",
              "      flex-wrap:wrap;\n",
              "      gap: 12px;\n",
              "    }\n",
              "\n",
              "    .colab-df-convert {\n",
              "      background-color: #E8F0FE;\n",
              "      border: none;\n",
              "      border-radius: 50%;\n",
              "      cursor: pointer;\n",
              "      display: none;\n",
              "      fill: #1967D2;\n",
              "      height: 32px;\n",
              "      padding: 0 0 0 0;\n",
              "      width: 32px;\n",
              "    }\n",
              "\n",
              "    .colab-df-convert:hover {\n",
              "      background-color: #E2EBFA;\n",
              "      box-shadow: 0px 1px 2px rgba(60, 64, 67, 0.3), 0px 1px 3px 1px rgba(60, 64, 67, 0.15);\n",
              "      fill: #174EA6;\n",
              "    }\n",
              "\n",
              "    [theme=dark] .colab-df-convert {\n",
              "      background-color: #3B4455;\n",
              "      fill: #D2E3FC;\n",
              "    }\n",
              "\n",
              "    [theme=dark] .colab-df-convert:hover {\n",
              "      background-color: #434B5C;\n",
              "      box-shadow: 0px 1px 3px 1px rgba(0, 0, 0, 0.15);\n",
              "      filter: drop-shadow(0px 1px 2px rgba(0, 0, 0, 0.3));\n",
              "      fill: #FFFFFF;\n",
              "    }\n",
              "  </style>\n",
              "\n",
              "      <script>\n",
              "        const buttonEl =\n",
              "          document.querySelector('#df-2f04b7c5-7746-41f4-8935-a8cfc4ce1a48 button.colab-df-convert');\n",
              "        buttonEl.style.display =\n",
              "          google.colab.kernel.accessAllowed ? 'block' : 'none';\n",
              "\n",
              "        async function convertToInteractive(key) {\n",
              "          const element = document.querySelector('#df-2f04b7c5-7746-41f4-8935-a8cfc4ce1a48');\n",
              "          const dataTable =\n",
              "            await google.colab.kernel.invokeFunction('convertToInteractive',\n",
              "                                                     [key], {});\n",
              "          if (!dataTable) return;\n",
              "\n",
              "          const docLinkHtml = 'Like what you see? Visit the ' +\n",
              "            '<a target=\"_blank\" href=https://colab.research.google.com/notebooks/data_table.ipynb>data table notebook</a>'\n",
              "            + ' to learn more about interactive tables.';\n",
              "          element.innerHTML = '';\n",
              "          dataTable['output_type'] = 'display_data';\n",
              "          await google.colab.output.renderOutput(dataTable, element);\n",
              "          const docLink = document.createElement('div');\n",
              "          docLink.innerHTML = docLinkHtml;\n",
              "          element.appendChild(docLink);\n",
              "        }\n",
              "      </script>\n",
              "    </div>\n",
              "  </div>\n",
              "  "
            ]
          },
          "metadata": {},
          "execution_count": 22
        }
      ],
      "source": [
        "data.head()"
      ]
    },
    {
      "cell_type": "code",
      "execution_count": 17,
      "metadata": {
        "colab": {
          "base_uri": "https://localhost:8080/"
        },
        "id": "tqkUd6frpDFp",
        "outputId": "83c4acb4-fd28-4ac3-e84d-bf093429e86a"
      },
      "outputs": [
        {
          "output_type": "execute_result",
          "data": {
            "text/plain": [
              "age                              0\n",
              "sex                              0\n",
              "chest_pain_type                  0\n",
              "resting_blood_pressure           0\n",
              "cholestoral                      0\n",
              "fasting_blood_sugar              0\n",
              "rest_ecg                         0\n",
              "Max_heart_rate                   0\n",
              "exercise_induced_angina          0\n",
              "oldpeak                          0\n",
              "slope                            0\n",
              "vessels_colored_by_flourosopy    0\n",
              "thalassemia                      0\n",
              "target                           0\n",
              "dtype: int64"
            ]
          },
          "metadata": {},
          "execution_count": 17
        }
      ],
      "source": [
        "data.isnull().sum()"
      ]
    },
    {
      "cell_type": "code",
      "source": [
        "lbl=LabelEncoder()\n",
        "categorical=['sex','chest_pain_type','fasting_blood_sugar','rest_ecg','exercise_induced_angina','slope','vessels_colored_by_flourosopy','thalassemia']\n",
        "for i in categorical:\n",
        "  data[i]=lbl.fit_transform(data[i])"
      ],
      "metadata": {
        "id": "baeDqr5mX39e"
      },
      "execution_count": 25,
      "outputs": []
    },
    {
      "cell_type": "code",
      "execution_count": 26,
      "metadata": {
        "colab": {
          "base_uri": "https://localhost:8080/",
          "height": 488
        },
        "id": "4tej5IaJpDFt",
        "outputId": "8d0ef476-8636-4318-dd9a-039cfa5f5fde"
      },
      "outputs": [
        {
          "output_type": "execute_result",
          "data": {
            "text/plain": [
              "      age  sex  chest_pain_type  resting_blood_pressure  cholestoral  \\\n",
              "0      52    1                3                     125          212   \n",
              "1      53    1                3                     140          203   \n",
              "2      70    1                3                     145          174   \n",
              "3      61    1                3                     148          203   \n",
              "4      62    0                3                     138          294   \n",
              "...   ...  ...              ...                     ...          ...   \n",
              "1020   59    1                1                     140          221   \n",
              "1021   60    1                3                     125          258   \n",
              "1022   47    1                3                     110          275   \n",
              "1023   50    0                3                     110          254   \n",
              "1024   54    1                3                     120          188   \n",
              "\n",
              "      fasting_blood_sugar  rest_ecg  Max_heart_rate  exercise_induced_angina  \\\n",
              "0                       1         2             168                        0   \n",
              "1                       0         1             155                        1   \n",
              "2                       1         2             125                        1   \n",
              "3                       1         2             161                        0   \n",
              "4                       0         2             106                        0   \n",
              "...                   ...       ...             ...                      ...   \n",
              "1020                    1         2             164                        1   \n",
              "1021                    1         1             141                        1   \n",
              "1022                    1         1             118                        1   \n",
              "1023                    1         1             159                        0   \n",
              "1024                    1         2             113                        0   \n",
              "\n",
              "      oldpeak  slope  vessels_colored_by_flourosopy  thalassemia  target  \n",
              "0         1.0      0                              3            3       0  \n",
              "1         3.1      2                              4            3       0  \n",
              "2         2.6      2                              4            3       0  \n",
              "3         0.0      0                              1            3       0  \n",
              "4         1.9      1                              2            0       0  \n",
              "...       ...    ...                            ...          ...     ...  \n",
              "1020      0.0      0                              4            0       1  \n",
              "1021      2.8      1                              1            3       0  \n",
              "1022      1.0      1                              1            0       0  \n",
              "1023      0.0      0                              4            0       1  \n",
              "1024      1.4      1                              1            3       0  \n",
              "\n",
              "[1025 rows x 14 columns]"
            ],
            "text/html": [
              "\n",
              "  <div id=\"df-545bfa29-8377-48ab-8ffa-af2c97a05750\">\n",
              "    <div class=\"colab-df-container\">\n",
              "      <div>\n",
              "<style scoped>\n",
              "    .dataframe tbody tr th:only-of-type {\n",
              "        vertical-align: middle;\n",
              "    }\n",
              "\n",
              "    .dataframe tbody tr th {\n",
              "        vertical-align: top;\n",
              "    }\n",
              "\n",
              "    .dataframe thead th {\n",
              "        text-align: right;\n",
              "    }\n",
              "</style>\n",
              "<table border=\"1\" class=\"dataframe\">\n",
              "  <thead>\n",
              "    <tr style=\"text-align: right;\">\n",
              "      <th></th>\n",
              "      <th>age</th>\n",
              "      <th>sex</th>\n",
              "      <th>chest_pain_type</th>\n",
              "      <th>resting_blood_pressure</th>\n",
              "      <th>cholestoral</th>\n",
              "      <th>fasting_blood_sugar</th>\n",
              "      <th>rest_ecg</th>\n",
              "      <th>Max_heart_rate</th>\n",
              "      <th>exercise_induced_angina</th>\n",
              "      <th>oldpeak</th>\n",
              "      <th>slope</th>\n",
              "      <th>vessels_colored_by_flourosopy</th>\n",
              "      <th>thalassemia</th>\n",
              "      <th>target</th>\n",
              "    </tr>\n",
              "  </thead>\n",
              "  <tbody>\n",
              "    <tr>\n",
              "      <th>0</th>\n",
              "      <td>52</td>\n",
              "      <td>1</td>\n",
              "      <td>3</td>\n",
              "      <td>125</td>\n",
              "      <td>212</td>\n",
              "      <td>1</td>\n",
              "      <td>2</td>\n",
              "      <td>168</td>\n",
              "      <td>0</td>\n",
              "      <td>1.0</td>\n",
              "      <td>0</td>\n",
              "      <td>3</td>\n",
              "      <td>3</td>\n",
              "      <td>0</td>\n",
              "    </tr>\n",
              "    <tr>\n",
              "      <th>1</th>\n",
              "      <td>53</td>\n",
              "      <td>1</td>\n",
              "      <td>3</td>\n",
              "      <td>140</td>\n",
              "      <td>203</td>\n",
              "      <td>0</td>\n",
              "      <td>1</td>\n",
              "      <td>155</td>\n",
              "      <td>1</td>\n",
              "      <td>3.1</td>\n",
              "      <td>2</td>\n",
              "      <td>4</td>\n",
              "      <td>3</td>\n",
              "      <td>0</td>\n",
              "    </tr>\n",
              "    <tr>\n",
              "      <th>2</th>\n",
              "      <td>70</td>\n",
              "      <td>1</td>\n",
              "      <td>3</td>\n",
              "      <td>145</td>\n",
              "      <td>174</td>\n",
              "      <td>1</td>\n",
              "      <td>2</td>\n",
              "      <td>125</td>\n",
              "      <td>1</td>\n",
              "      <td>2.6</td>\n",
              "      <td>2</td>\n",
              "      <td>4</td>\n",
              "      <td>3</td>\n",
              "      <td>0</td>\n",
              "    </tr>\n",
              "    <tr>\n",
              "      <th>3</th>\n",
              "      <td>61</td>\n",
              "      <td>1</td>\n",
              "      <td>3</td>\n",
              "      <td>148</td>\n",
              "      <td>203</td>\n",
              "      <td>1</td>\n",
              "      <td>2</td>\n",
              "      <td>161</td>\n",
              "      <td>0</td>\n",
              "      <td>0.0</td>\n",
              "      <td>0</td>\n",
              "      <td>1</td>\n",
              "      <td>3</td>\n",
              "      <td>0</td>\n",
              "    </tr>\n",
              "    <tr>\n",
              "      <th>4</th>\n",
              "      <td>62</td>\n",
              "      <td>0</td>\n",
              "      <td>3</td>\n",
              "      <td>138</td>\n",
              "      <td>294</td>\n",
              "      <td>0</td>\n",
              "      <td>2</td>\n",
              "      <td>106</td>\n",
              "      <td>0</td>\n",
              "      <td>1.9</td>\n",
              "      <td>1</td>\n",
              "      <td>2</td>\n",
              "      <td>0</td>\n",
              "      <td>0</td>\n",
              "    </tr>\n",
              "    <tr>\n",
              "      <th>...</th>\n",
              "      <td>...</td>\n",
              "      <td>...</td>\n",
              "      <td>...</td>\n",
              "      <td>...</td>\n",
              "      <td>...</td>\n",
              "      <td>...</td>\n",
              "      <td>...</td>\n",
              "      <td>...</td>\n",
              "      <td>...</td>\n",
              "      <td>...</td>\n",
              "      <td>...</td>\n",
              "      <td>...</td>\n",
              "      <td>...</td>\n",
              "      <td>...</td>\n",
              "    </tr>\n",
              "    <tr>\n",
              "      <th>1020</th>\n",
              "      <td>59</td>\n",
              "      <td>1</td>\n",
              "      <td>1</td>\n",
              "      <td>140</td>\n",
              "      <td>221</td>\n",
              "      <td>1</td>\n",
              "      <td>2</td>\n",
              "      <td>164</td>\n",
              "      <td>1</td>\n",
              "      <td>0.0</td>\n",
              "      <td>0</td>\n",
              "      <td>4</td>\n",
              "      <td>0</td>\n",
              "      <td>1</td>\n",
              "    </tr>\n",
              "    <tr>\n",
              "      <th>1021</th>\n",
              "      <td>60</td>\n",
              "      <td>1</td>\n",
              "      <td>3</td>\n",
              "      <td>125</td>\n",
              "      <td>258</td>\n",
              "      <td>1</td>\n",
              "      <td>1</td>\n",
              "      <td>141</td>\n",
              "      <td>1</td>\n",
              "      <td>2.8</td>\n",
              "      <td>1</td>\n",
              "      <td>1</td>\n",
              "      <td>3</td>\n",
              "      <td>0</td>\n",
              "    </tr>\n",
              "    <tr>\n",
              "      <th>1022</th>\n",
              "      <td>47</td>\n",
              "      <td>1</td>\n",
              "      <td>3</td>\n",
              "      <td>110</td>\n",
              "      <td>275</td>\n",
              "      <td>1</td>\n",
              "      <td>1</td>\n",
              "      <td>118</td>\n",
              "      <td>1</td>\n",
              "      <td>1.0</td>\n",
              "      <td>1</td>\n",
              "      <td>1</td>\n",
              "      <td>0</td>\n",
              "      <td>0</td>\n",
              "    </tr>\n",
              "    <tr>\n",
              "      <th>1023</th>\n",
              "      <td>50</td>\n",
              "      <td>0</td>\n",
              "      <td>3</td>\n",
              "      <td>110</td>\n",
              "      <td>254</td>\n",
              "      <td>1</td>\n",
              "      <td>1</td>\n",
              "      <td>159</td>\n",
              "      <td>0</td>\n",
              "      <td>0.0</td>\n",
              "      <td>0</td>\n",
              "      <td>4</td>\n",
              "      <td>0</td>\n",
              "      <td>1</td>\n",
              "    </tr>\n",
              "    <tr>\n",
              "      <th>1024</th>\n",
              "      <td>54</td>\n",
              "      <td>1</td>\n",
              "      <td>3</td>\n",
              "      <td>120</td>\n",
              "      <td>188</td>\n",
              "      <td>1</td>\n",
              "      <td>2</td>\n",
              "      <td>113</td>\n",
              "      <td>0</td>\n",
              "      <td>1.4</td>\n",
              "      <td>1</td>\n",
              "      <td>1</td>\n",
              "      <td>3</td>\n",
              "      <td>0</td>\n",
              "    </tr>\n",
              "  </tbody>\n",
              "</table>\n",
              "<p>1025 rows × 14 columns</p>\n",
              "</div>\n",
              "      <button class=\"colab-df-convert\" onclick=\"convertToInteractive('df-545bfa29-8377-48ab-8ffa-af2c97a05750')\"\n",
              "              title=\"Convert this dataframe to an interactive table.\"\n",
              "              style=\"display:none;\">\n",
              "        \n",
              "  <svg xmlns=\"http://www.w3.org/2000/svg\" height=\"24px\"viewBox=\"0 0 24 24\"\n",
              "       width=\"24px\">\n",
              "    <path d=\"M0 0h24v24H0V0z\" fill=\"none\"/>\n",
              "    <path d=\"M18.56 5.44l.94 2.06.94-2.06 2.06-.94-2.06-.94-.94-2.06-.94 2.06-2.06.94zm-11 1L8.5 8.5l.94-2.06 2.06-.94-2.06-.94L8.5 2.5l-.94 2.06-2.06.94zm10 10l.94 2.06.94-2.06 2.06-.94-2.06-.94-.94-2.06-.94 2.06-2.06.94z\"/><path d=\"M17.41 7.96l-1.37-1.37c-.4-.4-.92-.59-1.43-.59-.52 0-1.04.2-1.43.59L10.3 9.45l-7.72 7.72c-.78.78-.78 2.05 0 2.83L4 21.41c.39.39.9.59 1.41.59.51 0 1.02-.2 1.41-.59l7.78-7.78 2.81-2.81c.8-.78.8-2.07 0-2.86zM5.41 20L4 18.59l7.72-7.72 1.47 1.35L5.41 20z\"/>\n",
              "  </svg>\n",
              "      </button>\n",
              "      \n",
              "  <style>\n",
              "    .colab-df-container {\n",
              "      display:flex;\n",
              "      flex-wrap:wrap;\n",
              "      gap: 12px;\n",
              "    }\n",
              "\n",
              "    .colab-df-convert {\n",
              "      background-color: #E8F0FE;\n",
              "      border: none;\n",
              "      border-radius: 50%;\n",
              "      cursor: pointer;\n",
              "      display: none;\n",
              "      fill: #1967D2;\n",
              "      height: 32px;\n",
              "      padding: 0 0 0 0;\n",
              "      width: 32px;\n",
              "    }\n",
              "\n",
              "    .colab-df-convert:hover {\n",
              "      background-color: #E2EBFA;\n",
              "      box-shadow: 0px 1px 2px rgba(60, 64, 67, 0.3), 0px 1px 3px 1px rgba(60, 64, 67, 0.15);\n",
              "      fill: #174EA6;\n",
              "    }\n",
              "\n",
              "    [theme=dark] .colab-df-convert {\n",
              "      background-color: #3B4455;\n",
              "      fill: #D2E3FC;\n",
              "    }\n",
              "\n",
              "    [theme=dark] .colab-df-convert:hover {\n",
              "      background-color: #434B5C;\n",
              "      box-shadow: 0px 1px 3px 1px rgba(0, 0, 0, 0.15);\n",
              "      filter: drop-shadow(0px 1px 2px rgba(0, 0, 0, 0.3));\n",
              "      fill: #FFFFFF;\n",
              "    }\n",
              "  </style>\n",
              "\n",
              "      <script>\n",
              "        const buttonEl =\n",
              "          document.querySelector('#df-545bfa29-8377-48ab-8ffa-af2c97a05750 button.colab-df-convert');\n",
              "        buttonEl.style.display =\n",
              "          google.colab.kernel.accessAllowed ? 'block' : 'none';\n",
              "\n",
              "        async function convertToInteractive(key) {\n",
              "          const element = document.querySelector('#df-545bfa29-8377-48ab-8ffa-af2c97a05750');\n",
              "          const dataTable =\n",
              "            await google.colab.kernel.invokeFunction('convertToInteractive',\n",
              "                                                     [key], {});\n",
              "          if (!dataTable) return;\n",
              "\n",
              "          const docLinkHtml = 'Like what you see? Visit the ' +\n",
              "            '<a target=\"_blank\" href=https://colab.research.google.com/notebooks/data_table.ipynb>data table notebook</a>'\n",
              "            + ' to learn more about interactive tables.';\n",
              "          element.innerHTML = '';\n",
              "          dataTable['output_type'] = 'display_data';\n",
              "          await google.colab.output.renderOutput(dataTable, element);\n",
              "          const docLink = document.createElement('div');\n",
              "          docLink.innerHTML = docLinkHtml;\n",
              "          element.appendChild(docLink);\n",
              "        }\n",
              "      </script>\n",
              "    </div>\n",
              "  </div>\n",
              "  "
            ]
          },
          "metadata": {},
          "execution_count": 26
        }
      ],
      "source": [
        "data"
      ]
    },
    {
      "cell_type": "code",
      "execution_count": 29,
      "metadata": {
        "id": "KCRxrwqqpDFu"
      },
      "outputs": [],
      "source": [
        "y=data['target']\n",
        "X=data.drop('target',axis=1)\n"
      ]
    },
    {
      "cell_type": "code",
      "execution_count": 30,
      "metadata": {
        "id": "w2oCINy3pDFu"
      },
      "outputs": [],
      "source": [
        "from sklearn.model_selection import train_test_split\n",
        "X_train, X_test, y_train, y_test = train_test_split(X, y, test_size=0.3, random_state=0)"
      ]
    },
    {
      "cell_type": "code",
      "source": [
        "scaler = MinMaxScaler()\n",
        "X_train=scaler.fit_transform(X_train)\n",
        "X_test=scaler.fit_transform(X_test)\n"
      ],
      "metadata": {
        "id": "NSnYL6SdFa1r"
      },
      "execution_count": 31,
      "outputs": []
    },
    {
      "cell_type": "markdown",
      "metadata": {
        "id": "gzutmpUspDFu"
      },
      "source": [
        "### The Gaussian Naive Bytes Classifier"
      ]
    },
    {
      "cell_type": "code",
      "execution_count": 32,
      "metadata": {
        "id": "7BE2BDu1pDFw",
        "colab": {
          "base_uri": "https://localhost:8080/",
          "height": 338
        },
        "outputId": "bb8a8051-8923-4bb3-8c4c-bca93d6affa6"
      },
      "outputs": [
        {
          "output_type": "stream",
          "name": "stderr",
          "text": [
            "/usr/local/lib/python3.7/dist-packages/sklearn/utils/deprecation.py:87: FutureWarning: Function plot_confusion_matrix is deprecated; Function `plot_confusion_matrix` is deprecated in 1.0 and will be removed in 1.2. Use one of the class methods: ConfusionMatrixDisplay.from_predictions or ConfusionMatrixDisplay.from_estimator.\n",
            "  warnings.warn(msg, category=FutureWarning)\n"
          ]
        },
        {
          "output_type": "display_data",
          "data": {
            "text/plain": [
              "<Figure size 432x288 with 2 Axes>"
            ],
            "image/png": "[encoded data removed]"
          },
          "metadata": {
            "needs_background": "light"
          }
        }
      ],
      "source": [
        "from sklearn.naive_bayes import GaussianNB\n",
        "gnb = GaussianNB()\n",
        "gnb.fit(X_train,y_train)\n",
        "y_pred=gnb.predict(X_test)\n",
        "gnb.score(X_test,y_test)\n",
        "plot_confusion_matrix(gnb, X_test, y_test)\n",
        "plt.show()"
      ]
    },
    {
      "cell_type": "code",
      "execution_count": 33,
      "metadata": {
        "id": "IihPfVe3pDFw",
        "colab": {
          "base_uri": "https://localhost:8080/"
        },
        "outputId": "56866fee-bd26-4ae2-de25-10a096744c15"
      },
      "outputs": [
        {
          "output_type": "stream",
          "name": "stdout",
          "text": [
            "The accuracy for Naive Bytes= 0.8409090909090909\n",
            "Recall: 0.8588957055214724\n"
          ]
        }
      ],
      "source": [
        "print(\"The accuracy for Naive Bytes= \"+str(accuracy_score(y_test,y_pred)))\n",
        "print(\"Recall: \"+str(recall_score(y_test, y_pred)))"
      ]
    },
    {
      "cell_type": "markdown",
      "metadata": {
        "id": "HZWchmpNpDFx"
      },
      "source": [
        "### The Logistic Regression"
      ]
    },
    {
      "cell_type": "code",
      "execution_count": 34,
      "metadata": {
        "id": "KpbeFxUYpDFx",
        "colab": {
          "base_uri": "https://localhost:8080/",
          "height": 334
        },
        "outputId": "32eccb59-d95c-4f70-8022-52bc019dff5b"
      },
      "outputs": [
        {
          "output_type": "stream",
          "name": "stderr",
          "text": [
            "/usr/local/lib/python3.7/dist-packages/sklearn/utils/deprecation.py:87: FutureWarning: Function plot_confusion_matrix is deprecated; Function `plot_confusion_matrix` is deprecated in 1.0 and will be removed in 1.2. Use one of the class methods: ConfusionMatrixDisplay.from_predictions or ConfusionMatrixDisplay.from_estimator.\n",
            "  warnings.warn(msg, category=FutureWarning)\n"
          ]
        },
        {
          "output_type": "display_data",
          "data": {
            "text/plain": [
              "<Figure size 432x288 with 2 Axes>"
            ],
            "image/png": "[encoded data removed]"
          },
          "metadata": {
            "needs_background": "light"
          }
        }
      ],
      "source": [
        "logisticRegressionmodel=LogisticRegression()\n",
        "logisticRegressionmodel.fit(X_train,y_train)\n",
        "y_pred=logisticRegressionmodel.predict(X_test)\n",
        "plot_confusion_matrix(logisticRegressionmodel, X_test, y_test)\n",
        "plt.show()"
      ]
    },
    {
      "cell_type": "code",
      "execution_count": 35,
      "metadata": {
        "id": "OePdtDi9pDFx",
        "colab": {
          "base_uri": "https://localhost:8080/"
        },
        "outputId": "1df10380-ec0d-456b-a8bb-45e5eab584a1"
      },
      "outputs": [
        {
          "output_type": "stream",
          "name": "stdout",
          "text": [
            "The accuracy for Logsitic Regresion= 84.74025974025975\n",
            "Recall: 88.34355828220859\n"
          ]
        }
      ],
      "source": [
        "print(\"The accuracy for Logsitic Regresion= \"+str(accuracy_score(y_test,y_pred)*100))\n",
        "print(\"Recall: \"+str(recall_score(y_test, y_pred)*100))"
      ]
    },
    {
      "cell_type": "markdown",
      "metadata": {
        "id": "Yp5oVN0UpDFy"
      },
      "source": [
        "### KNN algorithm"
      ]
    },
    {
      "cell_type": "code",
      "execution_count": 36,
      "metadata": {
        "colab": {
          "base_uri": "https://localhost:8080/",
          "height": 334
        },
        "id": "LEpBWNn2pDFy",
        "outputId": "ca9a02d2-e4b6-4ec5-970c-56f5478e57b6"
      },
      "outputs": [
        {
          "output_type": "stream",
          "name": "stderr",
          "text": [
            "/usr/local/lib/python3.7/dist-packages/sklearn/utils/deprecation.py:87: FutureWarning: Function plot_confusion_matrix is deprecated; Function `plot_confusion_matrix` is deprecated in 1.0 and will be removed in 1.2. Use one of the class methods: ConfusionMatrixDisplay.from_predictions or ConfusionMatrixDisplay.from_estimator.\n",
            "  warnings.warn(msg, category=FutureWarning)\n"
          ]
        },
        {
          "output_type": "display_data",
          "data": {
            "text/plain": [
              "<Figure size 432x288 with 2 Axes>"
            ],
            "image/png": "[encoded data removed]"
          },
          "metadata": {
            "needs_background": "light"
          }
        }
      ],
      "source": [
        "score=[]\n",
        "for i in range(1,50):\n",
        "    knnalgo=KNeighborsClassifier(n_neighbors=i)\n",
        "    knnalgo.fit(X_train,y_train)\n",
        "    y_pred=knnalgo.predict(X_test)\n",
        "    temp=mean_squared_error(y_test,y_pred)\n",
        "    score.append(temp)\n",
        "    \n",
        "knnalgo=KNeighborsClassifier(n_neighbors=26)\n",
        "knnalgo.fit(X_train, y_train)\n",
        "y_pred = knnalgo.predict(X_test)\n",
        "temp=mean_squared_error(y_test, y_pred)\n",
        "plot_confusion_matrix(knnalgo, X_test, y_test)\n",
        "plt.show()"
      ]
    },
    {
      "cell_type": "code",
      "execution_count": 37,
      "metadata": {
        "colab": {
          "base_uri": "https://localhost:8080/"
        },
        "id": "sXrxEDrypDFy",
        "outputId": "c517e082-07c2-4e7c-a98d-7a4081ccd8b3"
      },
      "outputs": [
        {
          "output_type": "stream",
          "name": "stdout",
          "text": [
            "The accuracy for Naive Bytes= 80.84415584415584\n",
            "Recall: 79.14110429447852\n"
          ]
        }
      ],
      "source": [
        "print(\"The accuracy for Naive Bytes= \"+str(accuracy_score(y_test,y_pred)*100))\n",
        "print(\"Recall: \"+str(recall_score(y_test, y_pred)*100))"
      ]
    },
    {
      "cell_type": "markdown",
      "metadata": {
        "id": "e9iePf6-pDFy"
      },
      "source": [
        "### RandomForestRegressor"
      ]
    },
    {
      "cell_type": "code",
      "execution_count": 53,
      "metadata": {
        "id": "CFA1mpSzpDFy",
        "outputId": "0a7e83d8-411e-4e1e-916d-8cd2a02d275d",
        "colab": {
          "base_uri": "https://localhost:8080/"
        }
      },
      "outputs": [
        {
          "output_type": "stream",
          "name": "stdout",
          "text": [
            "The accuracy for Random Forest Regressor= 97.40259740259741\n",
            "Recall: 99.38650306748467\n"
          ]
        }
      ],
      "source": [
        "regressor = RandomForestRegressor(n_estimators = 500,max_depth=6,random_state =1000)\n",
        "regressor.fit(X_train,y_train)\n",
        "y_pred=regressor.predict(X_test)\n",
        "y_pred=(y_pred>0.5)\n",
        "y_test=list(y_test)\n",
        "y_pred=list(y_pred)\n",
        "print(\"The accuracy for Random Forest Regressor= \"+str(accuracy_score(y_test,y_pred)*100))\n",
        "print(\"Recall: \"+str(recall_score(y_test, y_pred)*100))"
      ]
    },
    {
      "cell_type": "markdown",
      "metadata": {
        "id": "P5YlTHJ3pDFz"
      },
      "source": [
        "### Linear Regression"
      ]
    },
    {
      "cell_type": "code",
      "execution_count": 54,
      "metadata": {
        "id": "Tqf_jcP_pDFz",
        "outputId": "e4d44f91-f5a9-4d60-b4c4-096e38f39c17",
        "colab": {
          "base_uri": "https://localhost:8080/"
        }
      },
      "outputs": [
        {
          "output_type": "stream",
          "name": "stdout",
          "text": [
            "Accuracy: 84.74025974025975\n",
            "Recall: 88.34355828220859\n"
          ]
        }
      ],
      "source": [
        "from sklearn.linear_model import LinearRegression\n",
        "linear_regression=LinearRegression()\n",
        "linear_regression.fit(X_train,y_train)\n",
        "y_pred=linear_regression.predict(X_test)\n",
        "for i in range(len(y_pred)):\n",
        "    y_pred[i]=round(y_pred[i])\n",
        "y_pred=list(y_pred)\n",
        "\n",
        "print(\"Accuracy: \"+str(accuracy_score(y_test,y_pred)*100))\n",
        "print(\"Recall: \"+str(recall_score(y_test, y_pred)*100))"
      ]
    },
    {
      "cell_type": "markdown",
      "metadata": {
        "id": "rK05jzp3pDFz"
      },
      "source": [
        "### RNN"
      ]
    },
    {
      "cell_type": "code",
      "execution_count": 77,
      "metadata": {
        "id": "cMf2vdg9pDFz"
      },
      "outputs": [],
      "source": [
        "time_step=13\n",
        "model = Sequential(name=\"RNN-Model\") \n",
        "model.add(Input(shape=(time_step,1), name='Input-Layer')) \n",
        "model.add(SimpleRNN(units=6, activation='tanh', name='Hidden-Recurrent-Layer')) \n",
        "model.add(Dense(units=1, activation='tanh', name='Hidden-Layer')) \n",
        "model.add(Dense(units=1, activation='tanh',name='Hidden-Layer-2'))\n",
        "model.add(Dense(units=1, activation='tanh',name='Hidden-Layer-3'))\n",
        "model.add(Dense(units=1, activation='tanh',name='Hidden-Layer-4'))\n",
        "model.add(Dense(units=1, activation='tanh',name='Hidden-Layer-5'))\n",
        "model.add(Dense(units=1, activation='tanh',name='Hidden-Layer-6'))\n",
        "model.add(Dense(units=1, activation='tanh',name='Hidden-Layer-7'))\n",
        "model.add(Dense(units=1, activation='sigmoid', name='Output-Layer')) \n",
        "model.compile(loss='binary_crossentropy', optimizer='adam', metrics=['accuracy'])"
      ]
    },
    {
      "cell_type": "code",
      "source": [
        "y_train=np.array(y_train).reshape(-1)"
      ],
      "metadata": {
        "id": "-HucYuVxqv7o"
      },
      "execution_count": 109,
      "outputs": []
    },
    {
      "cell_type": "code",
      "source": [
        "model.fit(X_train, y_train, \n",
        "          batch_size=1, \n",
        "          epochs=30, \n",
        "          verbose='auto',\n",
        "          callbacks=None)"
      ],
      "metadata": {
        "colab": {
          "base_uri": "https://localhost:8080/"
        },
        "id": "KPKnb8utrsLk",
        "outputId": "d0eb8fa7-2ec7-4150-8ac5-ea48130ed242"
      },
      "execution_count": 87,
      "outputs": [
        {
          "output_type": "stream",
          "name": "stdout",
          "text": [
            "Epoch 1/30\n",
            "717/717 [==============================] - 3s 5ms/step - loss: 0.3274 - accuracy: 0.8954\n",
            "Epoch 2/30\n",
            "717/717 [==============================] - 4s 5ms/step - loss: 0.3311 - accuracy: 0.8926\n",
            "Epoch 3/30\n",
            "717/717 [==============================] - 2s 3ms/step - loss: 0.3274 - accuracy: 0.8954\n",
            "Epoch 4/30\n",
            "717/717 [==============================] - 2s 3ms/step - loss: 0.3256 - accuracy: 0.8982\n",
            "Epoch 5/30\n",
            "717/717 [==============================] - 2s 3ms/step - loss: 0.3187 - accuracy: 0.8996\n",
            "Epoch 6/30\n",
            "717/717 [==============================] - 2s 3ms/step - loss: 0.3146 - accuracy: 0.9024\n",
            "Epoch 7/30\n",
            "717/717 [==============================] - 2s 3ms/step - loss: 0.3141 - accuracy: 0.9024\n",
            "Epoch 8/30\n",
            "717/717 [==============================] - 2s 3ms/step - loss: 0.3452 - accuracy: 0.8856\n",
            "Epoch 9/30\n",
            "717/717 [==============================] - 2s 3ms/step - loss: 0.4423 - accuracy: 0.8368\n",
            "Epoch 10/30\n",
            "717/717 [==============================] - 2s 3ms/step - loss: 0.3730 - accuracy: 0.8703\n",
            "Epoch 11/30\n",
            "717/717 [==============================] - 2s 3ms/step - loss: 0.3546 - accuracy: 0.8773\n",
            "Epoch 12/30\n",
            "717/717 [==============================] - 2s 3ms/step - loss: 0.3382 - accuracy: 0.8856\n",
            "Epoch 13/30\n",
            "717/717 [==============================] - 2s 3ms/step - loss: 0.3288 - accuracy: 0.8982\n",
            "Epoch 14/30\n",
            "717/717 [==============================] - 2s 3ms/step - loss: 0.3474 - accuracy: 0.8801\n",
            "Epoch 15/30\n",
            "717/717 [==============================] - 2s 3ms/step - loss: 0.3505 - accuracy: 0.8801\n",
            "Epoch 16/30\n",
            "717/717 [==============================] - 2s 3ms/step - loss: 0.3280 - accuracy: 0.8954\n",
            "Epoch 17/30\n",
            "717/717 [==============================] - 2s 3ms/step - loss: 0.3256 - accuracy: 0.8982\n",
            "Epoch 18/30\n",
            "717/717 [==============================] - 2s 3ms/step - loss: 0.3342 - accuracy: 0.8954\n",
            "Epoch 19/30\n",
            "717/717 [==============================] - 2s 3ms/step - loss: 0.3232 - accuracy: 0.8968\n",
            "Epoch 20/30\n",
            "717/717 [==============================] - 2s 3ms/step - loss: 0.3398 - accuracy: 0.8884\n",
            "Epoch 21/30\n",
            "717/717 [==============================] - 2s 3ms/step - loss: 0.3198 - accuracy: 0.9010\n",
            "Epoch 22/30\n",
            "717/717 [==============================] - 2s 3ms/step - loss: 0.3300 - accuracy: 0.8954\n",
            "Epoch 23/30\n",
            "717/717 [==============================] - 2s 3ms/step - loss: 0.3721 - accuracy: 0.8689\n",
            "Epoch 24/30\n",
            "717/717 [==============================] - 2s 3ms/step - loss: 0.3284 - accuracy: 0.8926\n",
            "Epoch 25/30\n",
            "717/717 [==============================] - 2s 3ms/step - loss: 0.3303 - accuracy: 0.8968\n",
            "Epoch 26/30\n",
            "717/717 [==============================] - 2s 3ms/step - loss: 0.3350 - accuracy: 0.8926\n",
            "Epoch 27/30\n",
            "717/717 [==============================] - 2s 3ms/step - loss: 0.3422 - accuracy: 0.8898\n",
            "Epoch 28/30\n",
            "717/717 [==============================] - 2s 3ms/step - loss: 0.3194 - accuracy: 0.9010\n",
            "Epoch 29/30\n",
            "717/717 [==============================] - 2s 3ms/step - loss: 0.3145 - accuracy: 0.9024\n",
            "Epoch 30/30\n",
            "717/717 [==============================] - 2s 3ms/step - loss: 0.3137 - accuracy: 0.9024\n"
          ]
        },
        {
          "output_type": "execute_result",
          "data": {
            "text/plain": [
              "<keras.callbacks.History at 0x7f472a74db10>"
            ]
          },
          "metadata": {},
          "execution_count": 87
        }
      ]
    },
    {
      "cell_type": "code",
      "source": [
        "pred_train = model.predict(X_train)\n",
        "pred_test = model.predict(X_test)\n",
        "pred_train = (pred_train > 0.5)\n",
        "pred_test = (pred_test > 0.5)\n",
        "\n",
        "print(\"\")\n",
        "print('-------------------- Model Summary --------------------')\n",
        "model.summary()\n",
        "print(\"\")\n",
        "print('---------- Evaluation on Training Data ----------')\n",
        "print(\"Accuracy (on train data): \", accuracy_score(y_train, pred_train)*100)\n",
        "print(\"\")\n",
        "print(\"Recall (on train data): \", recall_score(y_train, pred_train)*100)\n",
        "print(\"\")\n",
        "\n",
        "\n",
        "print('---------- Evaluation on Test Data ----------')\n",
        "print(\"Accuracy (on test data):  \", accuracy_score(y_test, pred_test)*100)\n",
        "print(\"\")\n",
        "print(\"Recall (on test data):  \", recall_score(y_test, pred_test)*100)\n",
        "print(\"\")"
      ],
      "metadata": {
        "id": "hlPX1lyxsVdC",
        "colab": {
          "base_uri": "https://localhost:8080/"
        },
        "outputId": "da3e90ce-e288-42e6-fe81-8e579143f17e"
      },
      "execution_count": 88,
      "outputs": [
        {
          "output_type": "stream",
          "name": "stdout",
          "text": [
            "\n",
            "-------------------- Model Summary --------------------\n",
            "Model: \"RNN-Model\"\n",
            "_________________________________________________________________\n",
            " Layer (type)                Output Shape              Param #   \n",
            "=================================================================\n",
            " Hidden-Recurrent-Layer (Sim  (None, 6)                48        \n",
            " pleRNN)                                                         \n",
            "                                                                 \n",
            " Hidden-Layer (Dense)        (None, 1)                 7         \n",
            "                                                                 \n",
            " Hidden-Layer-2 (Dense)      (None, 1)                 2         \n",
            "                                                                 \n",
            " Hidden-Layer-3 (Dense)      (None, 1)                 2         \n",
            "                                                                 \n",
            " Hidden-Layer-4 (Dense)      (None, 1)                 2         \n",
            "                                                                 \n",
            " Hidden-Layer-5 (Dense)      (None, 1)                 2         \n",
            "                                                                 \n",
            " Hidden-Layer-6 (Dense)      (None, 1)                 2         \n",
            "                                                                 \n",
            " Hidden-Layer-7 (Dense)      (None, 1)                 2         \n",
            "                                                                 \n",
            " Output-Layer (Dense)        (None, 1)                 2         \n",
            "                                                                 \n",
            "=================================================================\n",
            "Total params: 69\n",
            "Trainable params: 69\n",
            "Non-trainable params: 0\n",
            "_________________________________________________________________\n",
            "\n",
            "---------- Evaluation on Training Data ----------\n",
            "Accuracy (on train data):  90.2370990237099\n",
            "\n",
            "Recall (on train data):  94.76584022038568\n",
            "\n",
            "---------- Evaluation on Test Data ----------\n",
            "Accuracy (on test data):   89.93506493506493\n",
            "\n",
            "Recall (on test data):   93.86503067484662\n",
            "\n"
          ]
        }
      ]
    },
    {
      "cell_type": "code",
      "source": [
        "conf_train=confusion_matrix(y_train,pred_train)\n",
        "print(\"Accuracy: \"+str(accuracy_score(y_train,pred_train)*100))\n",
        "print(\"Recall: \"+str(recall_score(y_train, pred_train)*100))\n",
        "ax = sns.heatmap(conf_train/np.sum(conf_train), annot=True, \n",
        "            fmt='.2%', cmap='Blues')\n",
        "\n",
        "ax.set_title('Train Data');\n",
        "ax.set_xlabel('\\nPredicted Values')\n",
        "ax.set_ylabel('Actual Values ');\n",
        "\n",
        "ax.xaxis.set_ticklabels(['False','True'])\n",
        "ax.yaxis.set_ticklabels(['False','True'])\n",
        "\n",
        "plt.show()"
      ],
      "metadata": {
        "colab": {
          "base_uri": "https://localhost:8080/",
          "height": 342
        },
        "id": "NBAezLbxt7gS",
        "outputId": "738aed6d-c2b0-4ba0-839f-2e0ce139dc26"
      },
      "execution_count": 89,
      "outputs": [
        {
          "output_type": "stream",
          "name": "stdout",
          "text": [
            "Accuracy: 90.2370990237099\n",
            "Recall: 94.76584022038568\n"
          ]
        },
        {
          "output_type": "display_data",
          "data": {
            "text/plain": [
              "<Figure size 432x288 with 2 Axes>"
            ],
            "image/png": "[encoded data removed]"
          },
          "metadata": {
            "needs_background": "light"
          }
        }
      ]
    },
    {
      "cell_type": "code",
      "source": [
        "conf_test=confusion_matrix(y_test,pred_test)\n",
        "print(\"Accuracy: \"+str(accuracy_score(y_test,pred_test)*100))\n",
        "print(\"Recall: \"+str(recall_score(y_test, pred_test)*100))\n",
        "ax = sns.heatmap(conf_test/np.sum(conf_test), annot=True, \n",
        "            fmt='.2%', cmap='Blues')\n",
        "\n",
        "ax.set_title('Test Data\\n\\n');\n",
        "ax.set_xlabel('\\nPredicted Values')\n",
        "ax.set_ylabel('Actual Values ');\n",
        "\n",
        "## Ticket labels - List must be in alphabetical order\n",
        "ax.xaxis.set_ticklabels(['False','True'])\n",
        "ax.yaxis.set_ticklabels(['False','True'])\n",
        "\n",
        "## Display the visualization of the Confusion Matrix.\n",
        "plt.show()"
      ],
      "metadata": {
        "colab": {
          "base_uri": "https://localhost:8080/",
          "height": 372
        },
        "id": "cAuFZqhOt-Mf",
        "outputId": "f181322d-020c-48c3-cbda-49e5dee23395"
      },
      "execution_count": 93,
      "outputs": [
        {
          "output_type": "stream",
          "name": "stdout",
          "text": [
            "Accuracy: 89.93506493506493\n",
            "Recall: 93.86503067484662\n"
          ]
        },
        {
          "output_type": "display_data",
          "data": {
            "text/plain": [
              "<Figure size 432x288 with 2 Axes>"
            ],
            "image/png": "[encoded data removed]"
          },
          "metadata": {
            "needs_background": "light"
          }
        }
      ]
    },
    {
      "cell_type": "code",
      "source": [
        "plot_model(model, to_file='model_plot.png', show_shapes=True, show_layer_names=True)"
      ],
      "metadata": {
        "colab": {
          "base_uri": "https://localhost:8080/",
          "height": 1000
        },
        "id": "ZEVth9UQukBL",
        "outputId": "4ee6318a-e807-49e6-8d55-70a83707ab22"
      },
      "execution_count": 94,
      "outputs": [
        {
          "output_type": "execute_result",
          "data": {
            "text/plain": [
              "<IPython.core.display.Image object>"
            ],
            "image/png": "[encoded data removed]"
          },
          "metadata": {},
          "execution_count": 94
        }
      ]
    },
    {
      "cell_type": "markdown",
      "source": [
        "### ANN Model"
      ],
      "metadata": {
        "id": "sLDMMvN1gRoM"
      }
    },
    {
      "cell_type": "code",
      "source": [
        "annmodel = Sequential([Dense(units=4,input_shape=(13,),activation='relu'),\n",
        "                    Dense(units=6,activation='relu'),\n",
        "                    keras.layers.Dropout(0.3),\n",
        "                    Dense(units=8,activation='relu'),\n",
        "                    keras.layers.Dropout(0.3),\n",
        "                    Dense(units=1,activation='sigmoid')])"
      ],
      "metadata": {
        "id": "muBiQ6YmupMk"
      },
      "execution_count": 145,
      "outputs": []
    },
    {
      "cell_type": "code",
      "source": [
        "annmodel.compile(optimizer='adam',loss='binary_crossentropy',metrics=['accuracy'])"
      ],
      "metadata": {
        "id": "qwSVsOHHhStP"
      },
      "execution_count": 146,
      "outputs": []
    },
    {
      "cell_type": "code",
      "source": [
        "annmodel.fit(X_train, y_train, \n",
        "          batch_size=1, \n",
        "          epochs=100, \n",
        "          verbose='auto')"
      ],
      "metadata": {
        "colab": {
          "base_uri": "https://localhost:8080/"
        },
        "id": "-0azgkF-hbNl",
        "outputId": "cb728541-4cc1-4c3e-baf6-5a39313a86b2"
      },
      "execution_count": 149,
      "outputs": [
        {
          "output_type": "stream",
          "name": "stdout",
          "text": [
            "Epoch 1/100\n",
            "717/717 [==============================] - 2s 3ms/step - loss: 0.4112 - accuracy: 0.8145\n",
            "Epoch 2/100\n",
            "717/717 [==============================] - 2s 3ms/step - loss: 0.4002 - accuracy: 0.7992\n",
            "Epoch 3/100\n",
            "717/717 [==============================] - 2s 3ms/step - loss: 0.3991 - accuracy: 0.8145\n",
            "Epoch 4/100\n",
            "717/717 [==============================] - 1s 2ms/step - loss: 0.4145 - accuracy: 0.8215\n",
            "Epoch 5/100\n",
            "717/717 [==============================] - 1s 2ms/step - loss: 0.3927 - accuracy: 0.8201\n",
            "Epoch 6/100\n",
            "717/717 [==============================] - 1s 2ms/step - loss: 0.3983 - accuracy: 0.8145\n",
            "Epoch 7/100\n",
            "717/717 [==============================] - 1s 2ms/step - loss: 0.4025 - accuracy: 0.8215\n",
            "Epoch 8/100\n",
            "717/717 [==============================] - 1s 2ms/step - loss: 0.3997 - accuracy: 0.8117\n",
            "Epoch 9/100\n",
            "717/717 [==============================] - 1s 2ms/step - loss: 0.3977 - accuracy: 0.8159\n",
            "Epoch 10/100\n",
            "717/717 [==============================] - 1s 2ms/step - loss: 0.3949 - accuracy: 0.8229\n",
            "Epoch 11/100\n",
            "717/717 [==============================] - 1s 2ms/step - loss: 0.4018 - accuracy: 0.8033\n",
            "Epoch 12/100\n",
            "717/717 [==============================] - 1s 2ms/step - loss: 0.3882 - accuracy: 0.8229\n",
            "Epoch 13/100\n",
            "717/717 [==============================] - 1s 2ms/step - loss: 0.4009 - accuracy: 0.7950\n",
            "Epoch 14/100\n",
            "717/717 [==============================] - 1s 2ms/step - loss: 0.4110 - accuracy: 0.8061\n",
            "Epoch 15/100\n",
            "717/717 [==============================] - 1s 2ms/step - loss: 0.3851 - accuracy: 0.8271\n",
            "Epoch 16/100\n",
            "717/717 [==============================] - 1s 2ms/step - loss: 0.3961 - accuracy: 0.8131\n",
            "Epoch 17/100\n",
            "717/717 [==============================] - 1s 2ms/step - loss: 0.3909 - accuracy: 0.8159\n",
            "Epoch 18/100\n",
            "717/717 [==============================] - 1s 2ms/step - loss: 0.3771 - accuracy: 0.8243\n",
            "Epoch 19/100\n",
            "717/717 [==============================] - 1s 2ms/step - loss: 0.3939 - accuracy: 0.8006\n",
            "Epoch 20/100\n",
            "717/717 [==============================] - 1s 2ms/step - loss: 0.3995 - accuracy: 0.8117\n",
            "Epoch 21/100\n",
            "717/717 [==============================] - 1s 2ms/step - loss: 0.3875 - accuracy: 0.8159\n",
            "Epoch 22/100\n",
            "717/717 [==============================] - 1s 2ms/step - loss: 0.3827 - accuracy: 0.8285\n",
            "Epoch 23/100\n",
            "717/717 [==============================] - 1s 2ms/step - loss: 0.3820 - accuracy: 0.8173\n",
            "Epoch 24/100\n",
            "717/717 [==============================] - 1s 2ms/step - loss: 0.3736 - accuracy: 0.8145\n",
            "Epoch 25/100\n",
            "717/717 [==============================] - 1s 2ms/step - loss: 0.3842 - accuracy: 0.8145\n",
            "Epoch 26/100\n",
            "717/717 [==============================] - 1s 2ms/step - loss: 0.3797 - accuracy: 0.8103\n",
            "Epoch 27/100\n",
            "717/717 [==============================] - 1s 2ms/step - loss: 0.3696 - accuracy: 0.8229\n",
            "Epoch 28/100\n",
            "717/717 [==============================] - 1s 2ms/step - loss: 0.3636 - accuracy: 0.8117\n",
            "Epoch 29/100\n",
            "717/717 [==============================] - 1s 2ms/step - loss: 0.3892 - accuracy: 0.8410\n",
            "Epoch 30/100\n",
            "717/717 [==============================] - 1s 2ms/step - loss: 0.3692 - accuracy: 0.8229\n",
            "Epoch 31/100\n",
            "717/717 [==============================] - 1s 2ms/step - loss: 0.3940 - accuracy: 0.8201\n",
            "Epoch 32/100\n",
            "717/717 [==============================] - 1s 2ms/step - loss: 0.3648 - accuracy: 0.8229\n",
            "Epoch 33/100\n",
            "717/717 [==============================] - 1s 2ms/step - loss: 0.3596 - accuracy: 0.8354\n",
            "Epoch 34/100\n",
            "717/717 [==============================] - 1s 2ms/step - loss: 0.3809 - accuracy: 0.8201\n",
            "Epoch 35/100\n",
            "717/717 [==============================] - 1s 2ms/step - loss: 0.3667 - accuracy: 0.8326\n",
            "Epoch 36/100\n",
            "717/717 [==============================] - 1s 2ms/step - loss: 0.3757 - accuracy: 0.8229\n",
            "Epoch 37/100\n",
            "717/717 [==============================] - 1s 2ms/step - loss: 0.3649 - accuracy: 0.8201\n",
            "Epoch 38/100\n",
            "717/717 [==============================] - 1s 2ms/step - loss: 0.3714 - accuracy: 0.8257\n",
            "Epoch 39/100\n",
            "717/717 [==============================] - 1s 2ms/step - loss: 0.3720 - accuracy: 0.8354\n",
            "Epoch 40/100\n",
            "717/717 [==============================] - 1s 2ms/step - loss: 0.3533 - accuracy: 0.8312\n",
            "Epoch 41/100\n",
            "717/717 [==============================] - 1s 2ms/step - loss: 0.3748 - accuracy: 0.8298\n",
            "Epoch 42/100\n",
            "717/717 [==============================] - 1s 2ms/step - loss: 0.3613 - accuracy: 0.8215\n",
            "Epoch 43/100\n",
            "717/717 [==============================] - 1s 2ms/step - loss: 0.3576 - accuracy: 0.8410\n",
            "Epoch 44/100\n",
            "717/717 [==============================] - 1s 2ms/step - loss: 0.3409 - accuracy: 0.8229\n",
            "Epoch 45/100\n",
            "717/717 [==============================] - 1s 2ms/step - loss: 0.3592 - accuracy: 0.8285\n",
            "Epoch 46/100\n",
            "717/717 [==============================] - 1s 2ms/step - loss: 0.3815 - accuracy: 0.8271\n",
            "Epoch 47/100\n",
            "717/717 [==============================] - 1s 2ms/step - loss: 0.3569 - accuracy: 0.8298\n",
            "Epoch 48/100\n",
            "717/717 [==============================] - 1s 2ms/step - loss: 0.3758 - accuracy: 0.8298\n",
            "Epoch 49/100\n",
            "717/717 [==============================] - 1s 2ms/step - loss: 0.3680 - accuracy: 0.8201\n",
            "Epoch 50/100\n",
            "717/717 [==============================] - 1s 2ms/step - loss: 0.3430 - accuracy: 0.8396\n",
            "Epoch 51/100\n",
            "717/717 [==============================] - 1s 2ms/step - loss: 0.3573 - accuracy: 0.8229\n",
            "Epoch 52/100\n",
            "717/717 [==============================] - 1s 2ms/step - loss: 0.3435 - accuracy: 0.8368\n",
            "Epoch 53/100\n",
            "717/717 [==============================] - 1s 2ms/step - loss: 0.3498 - accuracy: 0.8257\n",
            "Epoch 54/100\n",
            "717/717 [==============================] - 1s 2ms/step - loss: 0.3689 - accuracy: 0.8229\n",
            "Epoch 55/100\n",
            "717/717 [==============================] - 1s 2ms/step - loss: 0.3603 - accuracy: 0.8187\n",
            "Epoch 56/100\n",
            "717/717 [==============================] - 1s 2ms/step - loss: 0.3604 - accuracy: 0.8257\n",
            "Epoch 57/100\n",
            "717/717 [==============================] - 1s 2ms/step - loss: 0.3457 - accuracy: 0.8312\n",
            "Epoch 58/100\n",
            "717/717 [==============================] - 1s 2ms/step - loss: 0.3494 - accuracy: 0.8438\n",
            "Epoch 59/100\n",
            "717/717 [==============================] - 1s 2ms/step - loss: 0.3584 - accuracy: 0.8285\n",
            "Epoch 60/100\n",
            "717/717 [==============================] - 1s 2ms/step - loss: 0.3572 - accuracy: 0.8285\n",
            "Epoch 61/100\n",
            "717/717 [==============================] - 1s 2ms/step - loss: 0.3419 - accuracy: 0.8382\n",
            "Epoch 62/100\n",
            "717/717 [==============================] - 1s 2ms/step - loss: 0.3525 - accuracy: 0.8340\n",
            "Epoch 63/100\n",
            "717/717 [==============================] - 1s 2ms/step - loss: 0.3433 - accuracy: 0.8494\n",
            "Epoch 64/100\n",
            "717/717 [==============================] - 1s 2ms/step - loss: 0.3543 - accuracy: 0.8271\n",
            "Epoch 65/100\n",
            "717/717 [==============================] - 1s 2ms/step - loss: 0.3617 - accuracy: 0.8340\n",
            "Epoch 66/100\n",
            "717/717 [==============================] - 1s 2ms/step - loss: 0.3708 - accuracy: 0.8354\n",
            "Epoch 67/100\n",
            "717/717 [==============================] - 1s 2ms/step - loss: 0.3585 - accuracy: 0.8368\n",
            "Epoch 68/100\n",
            "717/717 [==============================] - 1s 2ms/step - loss: 0.3676 - accuracy: 0.8410\n",
            "Epoch 69/100\n",
            "717/717 [==============================] - 1s 2ms/step - loss: 0.3564 - accuracy: 0.8382\n",
            "Epoch 70/100\n",
            "717/717 [==============================] - 1s 2ms/step - loss: 0.3641 - accuracy: 0.8382\n",
            "Epoch 71/100\n",
            "717/717 [==============================] - 1s 2ms/step - loss: 0.3646 - accuracy: 0.8368\n",
            "Epoch 72/100\n",
            "717/717 [==============================] - 1s 2ms/step - loss: 0.3399 - accuracy: 0.8424\n",
            "Epoch 73/100\n",
            "717/717 [==============================] - 1s 2ms/step - loss: 0.3358 - accuracy: 0.8382\n",
            "Epoch 74/100\n",
            "717/717 [==============================] - 1s 2ms/step - loss: 0.3541 - accuracy: 0.8382\n",
            "Epoch 75/100\n",
            "717/717 [==============================] - 1s 2ms/step - loss: 0.3635 - accuracy: 0.8326\n",
            "Epoch 76/100\n",
            "717/717 [==============================] - 1s 2ms/step - loss: 0.3672 - accuracy: 0.8410\n",
            "Epoch 77/100\n",
            "717/717 [==============================] - 1s 2ms/step - loss: 0.3652 - accuracy: 0.8466\n",
            "Epoch 78/100\n",
            "717/717 [==============================] - 1s 2ms/step - loss: 0.3525 - accuracy: 0.8480\n",
            "Epoch 79/100\n",
            "717/717 [==============================] - 1s 2ms/step - loss: 0.3358 - accuracy: 0.8438\n",
            "Epoch 80/100\n",
            "717/717 [==============================] - 1s 2ms/step - loss: 0.3581 - accuracy: 0.8103\n",
            "Epoch 81/100\n",
            "717/717 [==============================] - 1s 2ms/step - loss: 0.3486 - accuracy: 0.8396\n",
            "Epoch 82/100\n",
            "717/717 [==============================] - 1s 2ms/step - loss: 0.3285 - accuracy: 0.8466\n",
            "Epoch 83/100\n",
            "717/717 [==============================] - 1s 2ms/step - loss: 0.3280 - accuracy: 0.8215\n",
            "Epoch 84/100\n",
            "717/717 [==============================] - 1s 2ms/step - loss: 0.3665 - accuracy: 0.8271\n",
            "Epoch 85/100\n",
            "717/717 [==============================] - 1s 2ms/step - loss: 0.3341 - accuracy: 0.8396\n",
            "Epoch 86/100\n",
            "717/717 [==============================] - 1s 2ms/step - loss: 0.3696 - accuracy: 0.8061\n",
            "Epoch 87/100\n",
            "717/717 [==============================] - 1s 2ms/step - loss: 0.3683 - accuracy: 0.8075\n",
            "Epoch 88/100\n",
            "717/717 [==============================] - 1s 2ms/step - loss: 0.3509 - accuracy: 0.8298\n",
            "Epoch 89/100\n",
            "717/717 [==============================] - 1s 2ms/step - loss: 0.3756 - accuracy: 0.8354\n",
            "Epoch 90/100\n",
            "717/717 [==============================] - 1s 2ms/step - loss: 0.3532 - accuracy: 0.8326\n",
            "Epoch 91/100\n",
            "717/717 [==============================] - 1s 2ms/step - loss: 0.3496 - accuracy: 0.8382\n",
            "Epoch 92/100\n",
            "717/717 [==============================] - 1s 2ms/step - loss: 0.3675 - accuracy: 0.8326\n",
            "Epoch 93/100\n",
            "717/717 [==============================] - 1s 2ms/step - loss: 0.3499 - accuracy: 0.8298\n",
            "Epoch 94/100\n",
            "717/717 [==============================] - 1s 2ms/step - loss: 0.3464 - accuracy: 0.8396\n",
            "Epoch 95/100\n",
            "717/717 [==============================] - 1s 2ms/step - loss: 0.3424 - accuracy: 0.8298\n",
            "Epoch 96/100\n",
            "717/717 [==============================] - 1s 2ms/step - loss: 0.3439 - accuracy: 0.8215\n",
            "Epoch 97/100\n",
            "717/717 [==============================] - 1s 2ms/step - loss: 0.3482 - accuracy: 0.8368\n",
            "Epoch 98/100\n",
            "717/717 [==============================] - 1s 2ms/step - loss: 0.3621 - accuracy: 0.8368\n",
            "Epoch 99/100\n",
            "717/717 [==============================] - 1s 2ms/step - loss: 0.3486 - accuracy: 0.8452\n",
            "Epoch 100/100\n",
            "717/717 [==============================] - 1s 2ms/step - loss: 0.3524 - accuracy: 0.8298\n"
          ]
        },
        {
          "output_type": "execute_result",
          "data": {
            "text/plain": [
              "<keras.callbacks.History at 0x7f472050d250>"
            ]
          },
          "metadata": {},
          "execution_count": 149
        }
      ]
    },
    {
      "cell_type": "code",
      "source": [
        "pred_train = annmodel.predict(X_train)\n",
        "pred_test = annmodel.predict(X_test)\n",
        "pred_train = (pred_train > 0.5)\n",
        "pred_test = (pred_test > 0.5)\n",
        "\n",
        "print(\"\")\n",
        "print('-------------------- Model Summary --------------------')\n",
        "annmodel.summary()\n",
        "print(\"\")\n",
        "print('---------- Evaluation on Training Data ----------')\n",
        "print(\"Accuracy (on train data): \", accuracy_score(y_train, pred_train)*100)\n",
        "print(\"\")\n",
        "print(\"Recall (on train data): \", recall_score(y_train, pred_train)*100)\n",
        "print(\"\")\n",
        "\n",
        "\n",
        "print('---------- Evaluation on Test Data ----------')\n",
        "print(\"Accuracy (on test data):  \", accuracy_score(y_test, pred_test)*100)\n",
        "print(\"\")\n",
        "print(\"Recall (on test data):  \", recall_score(y_test, pred_test)*100)\n",
        "print(\"\")"
      ],
      "metadata": {
        "colab": {
          "base_uri": "https://localhost:8080/"
        },
        "id": "BknwyH4OhkfH",
        "outputId": "a04fc7be-3488-4284-e875-cfc5bd2d92e4"
      },
      "execution_count": 150,
      "outputs": [
        {
          "output_type": "stream",
          "name": "stdout",
          "text": [
            "\n",
            "-------------------- Model Summary --------------------\n",
            "Model: \"sequential_12\"\n",
            "_________________________________________________________________\n",
            " Layer (type)                Output Shape              Param #   \n",
            "=================================================================\n",
            " dense_51 (Dense)            (None, 4)                 56        \n",
            "                                                                 \n",
            " dense_52 (Dense)            (None, 6)                 30        \n",
            "                                                                 \n",
            " dropout_26 (Dropout)        (None, 6)                 0         \n",
            "                                                                 \n",
            " dense_53 (Dense)            (None, 8)                 56        \n",
            "                                                                 \n",
            " dropout_27 (Dropout)        (None, 8)                 0         \n",
            "                                                                 \n",
            " dense_54 (Dense)            (None, 1)                 9         \n",
            "                                                                 \n",
            "=================================================================\n",
            "Total params: 151\n",
            "Trainable params: 151\n",
            "Non-trainable params: 0\n",
            "_________________________________________________________________\n",
            "\n",
            "---------- Evaluation on Training Data ----------\n",
            "Accuracy (on train data):  86.61087866108787\n",
            "\n",
            "Recall (on train data):  96.96969696969697\n",
            "\n",
            "---------- Evaluation on Test Data ----------\n",
            "Accuracy (on test data):   88.31168831168831\n",
            "\n",
            "Recall (on test data):   97.54601226993866\n",
            "\n"
          ]
        }
      ]
    },
    {
      "cell_type": "markdown",
      "source": [
        "### LSTM Model"
      ],
      "metadata": {
        "id": "PmbUad80oRmS"
      }
    },
    {
      "cell_type": "code",
      "source": [
        ""
      ],
      "metadata": {
        "id": "DFSjS_SwoR1p"
      },
      "execution_count": null,
      "outputs": []
    }
  ],
  "metadata": {
    "interpreter": {
      "hash": "89159dfaa64e4e1c7c1c721b2c5e03e74cb7512bee140046fb329d4455e78d99"
    },
    "kernelspec": {
      "display_name": "Python 3.9.7 ('ECG')",
      "language": "python",
      "name": "python3"
    },
    "language_info": {
      "codemirror_mode": {
        "name": "ipython",
        "version": 3
      },
      "file_extension": ".py",
      "mimetype": "text/x-python",
      "name": "python",
      "nbconvert_exporter": "python",
      "pygments_lexer": "ipython3",
      "version": "3.9.12"
    },
    "orig_nbformat": 4,
    "colab": {
      "name": "UCL_DATA_1",
      "provenance": [],
      "collapsed_sections": [
        "gzutmpUspDFu",
        "HZWchmpNpDFx",
        "Yp5oVN0UpDFy",
        "e9iePf6-pDFy",
        "P5YlTHJ3pDFz"
      ]
    }
  },
  "nbformat": 4,
  "nbformat_minor": 0
}