{
  "cells": [
    {
      "cell_type": "code",
      "execution_count": 66,
      "metadata": {
        "id": "EeD3iMVipDFo"
      },
      "outputs": [],
      "source": [
        "import pandas as pd\n",
        "from datetime import datetime\n",
        "import numpy as np\n",
        "from sklearn.metrics import plot_confusion_matrix\n",
        "import matplotlib.pyplot as plt\n",
        "from sklearn.preprocessing import StandardScaler,OneHotEncoder\n",
        "from sklearn.preprocessing import MinMaxScaler\n",
        "from sklearn.ensemble import RandomForestRegressor\n",
        "from numpy import loadtxt\n",
        "from xgboost import XGBClassifier\n",
        "from sklearn.neighbors import KNeighborsClassifier\n",
        "from sklearn.linear_model import LogisticRegression\n",
        "from tensorflow import keras \n",
        "from sklearn.metrics import mean_squared_error, r2_score\n",
        "from sklearn.metrics import classification_report, recall_score,accuracy_score\n",
        "from keras.models import Sequential \n",
        "from keras import Input \n",
        "from sklearn.metrics import confusion_matrix\n",
        "import seaborn as sns\n",
        "import tensorflow as tf\n",
        "from keras.utils.vis_utils import plot_model\n",
        "from keras.layers import Dense, SimpleRNN\n",
        "from sklearn.preprocessing import LabelEncoder\n",
        "from tensorflow.keras.layers import LSTM\n",
        "from sklearn.metrics import roc_curve,auc,roc_auc_score"
      ]
    },
    {
      "cell_type": "code",
      "source": [
        "from google.colab import drive\n",
        "drive.mount('/content/drive')"
      ],
      "metadata": {
        "colab": {
          "base_uri": "https://localhost:8080/"
        },
        "id": "Gk7BrB2npGGX",
        "outputId": "d80b2621-2da5-4377-a4cb-f546c1d72e9c"
      },
      "execution_count": 67,
      "outputs": [
        {
          "output_type": "stream",
          "name": "stdout",
          "text": [
            "Drive already mounted at /content/drive; to attempt to forcibly remount, call drive.mount(\"/content/drive\", force_remount=True).\n"
          ]
        }
      ]
    },
    {
      "cell_type": "code",
      "execution_count": 68,
      "metadata": {
        "id": "bMYMWmQGpDFo"
      },
      "outputs": [],
      "source": [
        "data=pd.read_csv('/content/drive/MyDrive/AIProject/olddata.csv')"
      ]
    },
    {
      "cell_type": "code",
      "execution_count": 69,
      "metadata": {
        "colab": {
          "base_uri": "https://localhost:8080/",
          "height": 357
        },
        "id": "ra7Y18jbpDFp",
        "outputId": "f19650ad-6c82-4300-a9bf-b3645f65e853"
      },
      "outputs": [
        {
          "output_type": "execute_result",
          "data": {
            "text/plain": [
              "   age     sex chest_pain_type  resting_blood_pressure  cholestoral  \\\n",
              "0   52    Male  Typical angina                     125          212   \n",
              "1   53    Male  Typical angina                     140          203   \n",
              "2   70    Male  Typical angina                     145          174   \n",
              "3   61    Male  Typical angina                     148          203   \n",
              "4   62  Female  Typical angina                     138          294   \n",
              "\n",
              "      fasting_blood_sugar               rest_ecg  Max_heart_rate  \\\n",
              "0    Lower than 120 mg/ml  ST-T wave abnormality             168   \n",
              "1  Greater than 120 mg/ml                 Normal             155   \n",
              "2    Lower than 120 mg/ml  ST-T wave abnormality             125   \n",
              "3    Lower than 120 mg/ml  ST-T wave abnormality             161   \n",
              "4  Greater than 120 mg/ml  ST-T wave abnormality             106   \n",
              "\n",
              "  exercise_induced_angina  oldpeak        slope vessels_colored_by_flourosopy  \\\n",
              "0                      No      1.0  Downsloping                           Two   \n",
              "1                     Yes      3.1    Upsloping                          Zero   \n",
              "2                     Yes      2.6    Upsloping                          Zero   \n",
              "3                      No      0.0  Downsloping                           One   \n",
              "4                      No      1.9         Flat                         Three   \n",
              "\n",
              "         thalassemia  target  \n",
              "0  Reversable Defect       0  \n",
              "1  Reversable Defect       0  \n",
              "2  Reversable Defect       0  \n",
              "3  Reversable Defect       0  \n",
              "4       Fixed Defect       0  "
            ],
            "text/html": [
              "\n",
              "  <div id=\"df-3aef8b47-96a1-49b4-8689-a124be552ed7\">\n",
              "    <div class=\"colab-df-container\">\n",
              "      <div>\n",
              "<style scoped>\n",
              "    .dataframe tbody tr th:only-of-type {\n",
              "        vertical-align: middle;\n",
              "    }\n",
              "\n",
              "    .dataframe tbody tr th {\n",
              "        vertical-align: top;\n",
              "    }\n",
              "\n",
              "    .dataframe thead th {\n",
              "        text-align: right;\n",
              "    }\n",
              "</style>\n",
              "<table border=\"1\" class=\"dataframe\">\n",
              "  <thead>\n",
              "    <tr style=\"text-align: right;\">\n",
              "      <th></th>\n",
              "      <th>age</th>\n",
              "      <th>sex</th>\n",
              "      <th>chest_pain_type</th>\n",
              "      <th>resting_blood_pressure</th>\n",
              "      <th>cholestoral</th>\n",
              "      <th>fasting_blood_sugar</th>\n",
              "      <th>rest_ecg</th>\n",
              "      <th>Max_heart_rate</th>\n",
              "      <th>exercise_induced_angina</th>\n",
              "      <th>oldpeak</th>\n",
              "      <th>slope</th>\n",
              "      <th>vessels_colored_by_flourosopy</th>\n",
              "      <th>thalassemia</th>\n",
              "      <th>target</th>\n",
              "    </tr>\n",
              "  </thead>\n",
              "  <tbody>\n",
              "    <tr>\n",
              "      <th>0</th>\n",
              "      <td>52</td>\n",
              "      <td>Male</td>\n",
              "      <td>Typical angina</td>\n",
              "      <td>125</td>\n",
              "      <td>212</td>\n",
              "      <td>Lower than 120 mg/ml</td>\n",
              "      <td>ST-T wave abnormality</td>\n",
              "      <td>168</td>\n",
              "      <td>No</td>\n",
              "      <td>1.0</td>\n",
              "      <td>Downsloping</td>\n",
              "      <td>Two</td>\n",
              "      <td>Reversable Defect</td>\n",
              "      <td>0</td>\n",
              "    </tr>\n",
              "    <tr>\n",
              "      <th>1</th>\n",
              "      <td>53</td>\n",
              "      <td>Male</td>\n",
              "      <td>Typical angina</td>\n",
              "      <td>140</td>\n",
              "      <td>203</td>\n",
              "      <td>Greater than 120 mg/ml</td>\n",
              "      <td>Normal</td>\n",
              "      <td>155</td>\n",
              "      <td>Yes</td>\n",
              "      <td>3.1</td>\n",
              "      <td>Upsloping</td>\n",
              "      <td>Zero</td>\n",
              "      <td>Reversable Defect</td>\n",
              "      <td>0</td>\n",
              "    </tr>\n",
              "    <tr>\n",
              "      <th>2</th>\n",
              "      <td>70</td>\n",
              "      <td>Male</td>\n",
              "      <td>Typical angina</td>\n",
              "      <td>145</td>\n",
              "      <td>174</td>\n",
              "      <td>Lower than 120 mg/ml</td>\n",
              "      <td>ST-T wave abnormality</td>\n",
              "      <td>125</td>\n",
              "      <td>Yes</td>\n",
              "      <td>2.6</td>\n",
              "      <td>Upsloping</td>\n",
              "      <td>Zero</td>\n",
              "      <td>Reversable Defect</td>\n",
              "      <td>0</td>\n",
              "    </tr>\n",
              "    <tr>\n",
              "      <th>3</th>\n",
              "      <td>61</td>\n",
              "      <td>Male</td>\n",
              "      <td>Typical angina</td>\n",
              "      <td>148</td>\n",
              "      <td>203</td>\n",
              "      <td>Lower than 120 mg/ml</td>\n",
              "      <td>ST-T wave abnormality</td>\n",
              "      <td>161</td>\n",
              "      <td>No</td>\n",
              "      <td>0.0</td>\n",
              "      <td>Downsloping</td>\n",
              "      <td>One</td>\n",
              "      <td>Reversable Defect</td>\n",
              "      <td>0</td>\n",
              "    </tr>\n",
              "    <tr>\n",
              "      <th>4</th>\n",
              "      <td>62</td>\n",
              "      <td>Female</td>\n",
              "      <td>Typical angina</td>\n",
              "      <td>138</td>\n",
              "      <td>294</td>\n",
              "      <td>Greater than 120 mg/ml</td>\n",
              "      <td>ST-T wave abnormality</td>\n",
              "      <td>106</td>\n",
              "      <td>No</td>\n",
              "      <td>1.9</td>\n",
              "      <td>Flat</td>\n",
              "      <td>Three</td>\n",
              "      <td>Fixed Defect</td>\n",
              "      <td>0</td>\n",
              "    </tr>\n",
              "  </tbody>\n",
              "</table>\n",
              "</div>\n",
              "      <button class=\"colab-df-convert\" onclick=\"convertToInteractive('df-3aef8b47-96a1-49b4-8689-a124be552ed7')\"\n",
              "              title=\"Convert this dataframe to an interactive table.\"\n",
              "              style=\"display:none;\">\n",
              "        \n",
              "  <svg xmlns=\"http://www.w3.org/2000/svg\" height=\"24px\"viewBox=\"0 0 24 24\"\n",
              "       width=\"24px\">\n",
              "    <path d=\"M0 0h24v24H0V0z\" fill=\"none\"/>\n",
              "    <path d=\"M18.56 5.44l.94 2.06.94-2.06 2.06-.94-2.06-.94-.94-2.06-.94 2.06-2.06.94zm-11 1L8.5 8.5l.94-2.06 2.06-.94-2.06-.94L8.5 2.5l-.94 2.06-2.06.94zm10 10l.94 2.06.94-2.06 2.06-.94-2.06-.94-.94-2.06-.94 2.06-2.06.94z\"/><path d=\"M17.41 7.96l-1.37-1.37c-.4-.4-.92-.59-1.43-.59-.52 0-1.04.2-1.43.59L10.3 9.45l-7.72 7.72c-.78.78-.78 2.05 0 2.83L4 21.41c.39.39.9.59 1.41.59.51 0 1.02-.2 1.41-.59l7.78-7.78 2.81-2.81c.8-.78.8-2.07 0-2.86zM5.41 20L4 18.59l7.72-7.72 1.47 1.35L5.41 20z\"/>\n",
              "  </svg>\n",
              "      </button>\n",
              "      \n",
              "  <style>\n",
              "    .colab-df-container {\n",
              "      display:flex;\n",
              "      flex-wrap:wrap;\n",
              "      gap: 12px;\n",
              "    }\n",
              "\n",
              "    .colab-df-convert {\n",
              "      background-color: #E8F0FE;\n",
              "      border: none;\n",
              "      border-radius: 50%;\n",
              "      cursor: pointer;\n",
              "      display: none;\n",
              "      fill: #1967D2;\n",
              "      height: 32px;\n",
              "      padding: 0 0 0 0;\n",
              "      width: 32px;\n",
              "    }\n",
              "\n",
              "    .colab-df-convert:hover {\n",
              "      background-color: #E2EBFA;\n",
              "      box-shadow: 0px 1px 2px rgba(60, 64, 67, 0.3), 0px 1px 3px 1px rgba(60, 64, 67, 0.15);\n",
              "      fill: #174EA6;\n",
              "    }\n",
              "\n",
              "    [theme=dark] .colab-df-convert {\n",
              "      background-color: #3B4455;\n",
              "      fill: #D2E3FC;\n",
              "    }\n",
              "\n",
              "    [theme=dark] .colab-df-convert:hover {\n",
              "      background-color: #434B5C;\n",
              "      box-shadow: 0px 1px 3px 1px rgba(0, 0, 0, 0.15);\n",
              "      filter: drop-shadow(0px 1px 2px rgba(0, 0, 0, 0.3));\n",
              "      fill: #FFFFFF;\n",
              "    }\n",
              "  </style>\n",
              "\n",
              "      <script>\n",
              "        const buttonEl =\n",
              "          document.querySelector('#df-3aef8b47-96a1-49b4-8689-a124be552ed7 button.colab-df-convert');\n",
              "        buttonEl.style.display =\n",
              "          google.colab.kernel.accessAllowed ? 'block' : 'none';\n",
              "\n",
              "        async function convertToInteractive(key) {\n",
              "          const element = document.querySelector('#df-3aef8b47-96a1-49b4-8689-a124be552ed7');\n",
              "          const dataTable =\n",
              "            await google.colab.kernel.invokeFunction('convertToInteractive',\n",
              "                                                     [key], {});\n",
              "          if (!dataTable) return;\n",
              "\n",
              "          const docLinkHtml = 'Like what you see? Visit the ' +\n",
              "            '<a target=\"_blank\" href=https://colab.research.google.com/notebooks/data_table.ipynb>data table notebook</a>'\n",
              "            + ' to learn more about interactive tables.';\n",
              "          element.innerHTML = '';\n",
              "          dataTable['output_type'] = 'display_data';\n",
              "          await google.colab.output.renderOutput(dataTable, element);\n",
              "          const docLink = document.createElement('div');\n",
              "          docLink.innerHTML = docLinkHtml;\n",
              "          element.appendChild(docLink);\n",
              "        }\n",
              "      </script>\n",
              "    </div>\n",
              "  </div>\n",
              "  "
            ]
          },
          "metadata": {},
          "execution_count": 69
        }
      ],
      "source": [
        "data.head()"
      ]
    },
    {
      "cell_type": "code",
      "execution_count": 70,
      "metadata": {
        "colab": {
          "base_uri": "https://localhost:8080/"
        },
        "id": "tqkUd6frpDFp",
        "outputId": "765d8067-9b73-4be4-d3da-9ba3b31070da"
      },
      "outputs": [
        {
          "output_type": "execute_result",
          "data": {
            "text/plain": [
              "age                              0\n",
              "sex                              0\n",
              "chest_pain_type                  0\n",
              "resting_blood_pressure           0\n",
              "cholestoral                      0\n",
              "fasting_blood_sugar              0\n",
              "rest_ecg                         0\n",
              "Max_heart_rate                   0\n",
              "exercise_induced_angina          0\n",
              "oldpeak                          0\n",
              "slope                            0\n",
              "vessels_colored_by_flourosopy    0\n",
              "thalassemia                      0\n",
              "target                           0\n",
              "dtype: int64"
            ]
          },
          "metadata": {},
          "execution_count": 70
        }
      ],
      "source": [
        "data.isnull().sum()"
      ]
    },
    {
      "cell_type": "code",
      "source": [
        "lbl=LabelEncoder()\n",
        "categorical=['sex','chest_pain_type','fasting_blood_sugar','rest_ecg','exercise_induced_angina','slope','vessels_colored_by_flourosopy','thalassemia']\n",
        "for i in categorical:\n",
        "  data[i]=lbl.fit_transform(data[i])"
      ],
      "metadata": {
        "id": "baeDqr5mX39e"
      },
      "execution_count": 71,
      "outputs": []
    },
    {
      "cell_type": "code",
      "execution_count": 72,
      "metadata": {
        "colab": {
          "base_uri": "https://localhost:8080/",
          "height": 488
        },
        "id": "4tej5IaJpDFt",
        "outputId": "bd1b9b5e-bf45-4152-f9e8-dce5b94b02c1"
      },
      "outputs": [
        {
          "output_type": "execute_result",
          "data": {
            "text/plain": [
              "      age  sex  chest_pain_type  resting_blood_pressure  cholestoral  \\\n",
              "0      52    1                3                     125          212   \n",
              "1      53    1                3                     140          203   \n",
              "2      70    1                3                     145          174   \n",
              "3      61    1                3                     148          203   \n",
              "4      62    0                3                     138          294   \n",
              "...   ...  ...              ...                     ...          ...   \n",
              "1020   59    1                1                     140          221   \n",
              "1021   60    1                3                     125          258   \n",
              "1022   47    1                3                     110          275   \n",
              "1023   50    0                3                     110          254   \n",
              "1024   54    1                3                     120          188   \n",
              "\n",
              "      fasting_blood_sugar  rest_ecg  Max_heart_rate  exercise_induced_angina  \\\n",
              "0                       1         2             168                        0   \n",
              "1                       0         1             155                        1   \n",
              "2                       1         2             125                        1   \n",
              "3                       1         2             161                        0   \n",
              "4                       0         2             106                        0   \n",
              "...                   ...       ...             ...                      ...   \n",
              "1020                    1         2             164                        1   \n",
              "1021                    1         1             141                        1   \n",
              "1022                    1         1             118                        1   \n",
              "1023                    1         1             159                        0   \n",
              "1024                    1         2             113                        0   \n",
              "\n",
              "      oldpeak  slope  vessels_colored_by_flourosopy  thalassemia  target  \n",
              "0         1.0      0                              3            3       0  \n",
              "1         3.1      2                              4            3       0  \n",
              "2         2.6      2                              4            3       0  \n",
              "3         0.0      0                              1            3       0  \n",
              "4         1.9      1                              2            0       0  \n",
              "...       ...    ...                            ...          ...     ...  \n",
              "1020      0.0      0                              4            0       1  \n",
              "1021      2.8      1                              1            3       0  \n",
              "1022      1.0      1                              1            0       0  \n",
              "1023      0.0      0                              4            0       1  \n",
              "1024      1.4      1                              1            3       0  \n",
              "\n",
              "[1025 rows x 14 columns]"
            ],
            "text/html": [
              "\n",
              "  <div id=\"df-90071de9-b7b3-4c12-bac2-b5d627d4a320\">\n",
              "    <div class=\"colab-df-container\">\n",
              "      <div>\n",
              "<style scoped>\n",
              "    .dataframe tbody tr th:only-of-type {\n",
              "        vertical-align: middle;\n",
              "    }\n",
              "\n",
              "    .dataframe tbody tr th {\n",
              "        vertical-align: top;\n",
              "    }\n",
              "\n",
              "    .dataframe thead th {\n",
              "        text-align: right;\n",
              "    }\n",
              "</style>\n",
              "<table border=\"1\" class=\"dataframe\">\n",
              "  <thead>\n",
              "    <tr style=\"text-align: right;\">\n",
              "      <th></th>\n",
              "      <th>age</th>\n",
              "      <th>sex</th>\n",
              "      <th>chest_pain_type</th>\n",
              "      <th>resting_blood_pressure</th>\n",
              "      <th>cholestoral</th>\n",
              "      <th>fasting_blood_sugar</th>\n",
              "      <th>rest_ecg</th>\n",
              "      <th>Max_heart_rate</th>\n",
              "      <th>exercise_induced_angina</th>\n",
              "      <th>oldpeak</th>\n",
              "      <th>slope</th>\n",
              "      <th>vessels_colored_by_flourosopy</th>\n",
              "      <th>thalassemia</th>\n",
              "      <th>target</th>\n",
              "    </tr>\n",
              "  </thead>\n",
              "  <tbody>\n",
              "    <tr>\n",
              "      <th>0</th>\n",
              "      <td>52</td>\n",
              "      <td>1</td>\n",
              "      <td>3</td>\n",
              "      <td>125</td>\n",
              "      <td>212</td>\n",
              "      <td>1</td>\n",
              "      <td>2</td>\n",
              "      <td>168</td>\n",
              "      <td>0</td>\n",
              "      <td>1.0</td>\n",
              "      <td>0</td>\n",
              "      <td>3</td>\n",
              "      <td>3</td>\n",
              "      <td>0</td>\n",
              "    </tr>\n",
              "    <tr>\n",
              "      <th>1</th>\n",
              "      <td>53</td>\n",
              "      <td>1</td>\n",
              "      <td>3</td>\n",
              "      <td>140</td>\n",
              "      <td>203</td>\n",
              "      <td>0</td>\n",
              "      <td>1</td>\n",
              "      <td>155</td>\n",
              "      <td>1</td>\n",
              "      <td>3.1</td>\n",
              "      <td>2</td>\n",
              "      <td>4</td>\n",
              "      <td>3</td>\n",
              "      <td>0</td>\n",
              "    </tr>\n",
              "    <tr>\n",
              "      <th>2</th>\n",
              "      <td>70</td>\n",
              "      <td>1</td>\n",
              "      <td>3</td>\n",
              "      <td>145</td>\n",
              "      <td>174</td>\n",
              "      <td>1</td>\n",
              "      <td>2</td>\n",
              "      <td>125</td>\n",
              "      <td>1</td>\n",
              "      <td>2.6</td>\n",
              "      <td>2</td>\n",
              "      <td>4</td>\n",
              "      <td>3</td>\n",
              "      <td>0</td>\n",
              "    </tr>\n",
              "    <tr>\n",
              "      <th>3</th>\n",
              "      <td>61</td>\n",
              "      <td>1</td>\n",
              "      <td>3</td>\n",
              "      <td>148</td>\n",
              "      <td>203</td>\n",
              "      <td>1</td>\n",
              "      <td>2</td>\n",
              "      <td>161</td>\n",
              "      <td>0</td>\n",
              "      <td>0.0</td>\n",
              "      <td>0</td>\n",
              "      <td>1</td>\n",
              "      <td>3</td>\n",
              "      <td>0</td>\n",
              "    </tr>\n",
              "    <tr>\n",
              "      <th>4</th>\n",
              "      <td>62</td>\n",
              "      <td>0</td>\n",
              "      <td>3</td>\n",
              "      <td>138</td>\n",
              "      <td>294</td>\n",
              "      <td>0</td>\n",
              "      <td>2</td>\n",
              "      <td>106</td>\n",
              "      <td>0</td>\n",
              "      <td>1.9</td>\n",
              "      <td>1</td>\n",
              "      <td>2</td>\n",
              "      <td>0</td>\n",
              "      <td>0</td>\n",
              "    </tr>\n",
              "    <tr>\n",
              "      <th>...</th>\n",
              "      <td>...</td>\n",
              "      <td>...</td>\n",
              "      <td>...</td>\n",
              "      <td>...</td>\n",
              "      <td>...</td>\n",
              "      <td>...</td>\n",
              "      <td>...</td>\n",
              "      <td>...</td>\n",
              "      <td>...</td>\n",
              "      <td>...</td>\n",
              "      <td>...</td>\n",
              "      <td>...</td>\n",
              "      <td>...</td>\n",
              "      <td>...</td>\n",
              "    </tr>\n",
              "    <tr>\n",
              "      <th>1020</th>\n",
              "      <td>59</td>\n",
              "      <td>1</td>\n",
              "      <td>1</td>\n",
              "      <td>140</td>\n",
              "      <td>221</td>\n",
              "      <td>1</td>\n",
              "      <td>2</td>\n",
              "      <td>164</td>\n",
              "      <td>1</td>\n",
              "      <td>0.0</td>\n",
              "      <td>0</td>\n",
              "      <td>4</td>\n",
              "      <td>0</td>\n",
              "      <td>1</td>\n",
              "    </tr>\n",
              "    <tr>\n",
              "      <th>1021</th>\n",
              "      <td>60</td>\n",
              "      <td>1</td>\n",
              "      <td>3</td>\n",
              "      <td>125</td>\n",
              "      <td>258</td>\n",
              "      <td>1</td>\n",
              "      <td>1</td>\n",
              "      <td>141</td>\n",
              "      <td>1</td>\n",
              "      <td>2.8</td>\n",
              "      <td>1</td>\n",
              "      <td>1</td>\n",
              "      <td>3</td>\n",
              "      <td>0</td>\n",
              "    </tr>\n",
              "    <tr>\n",
              "      <th>1022</th>\n",
              "      <td>47</td>\n",
              "      <td>1</td>\n",
              "      <td>3</td>\n",
              "      <td>110</td>\n",
              "      <td>275</td>\n",
              "      <td>1</td>\n",
              "      <td>1</td>\n",
              "      <td>118</td>\n",
              "      <td>1</td>\n",
              "      <td>1.0</td>\n",
              "      <td>1</td>\n",
              "      <td>1</td>\n",
              "      <td>0</td>\n",
              "      <td>0</td>\n",
              "    </tr>\n",
              "    <tr>\n",
              "      <th>1023</th>\n",
              "      <td>50</td>\n",
              "      <td>0</td>\n",
              "      <td>3</td>\n",
              "      <td>110</td>\n",
              "      <td>254</td>\n",
              "      <td>1</td>\n",
              "      <td>1</td>\n",
              "      <td>159</td>\n",
              "      <td>0</td>\n",
              "      <td>0.0</td>\n",
              "      <td>0</td>\n",
              "      <td>4</td>\n",
              "      <td>0</td>\n",
              "      <td>1</td>\n",
              "    </tr>\n",
              "    <tr>\n",
              "      <th>1024</th>\n",
              "      <td>54</td>\n",
              "      <td>1</td>\n",
              "      <td>3</td>\n",
              "      <td>120</td>\n",
              "      <td>188</td>\n",
              "      <td>1</td>\n",
              "      <td>2</td>\n",
              "      <td>113</td>\n",
              "      <td>0</td>\n",
              "      <td>1.4</td>\n",
              "      <td>1</td>\n",
              "      <td>1</td>\n",
              "      <td>3</td>\n",
              "      <td>0</td>\n",
              "    </tr>\n",
              "  </tbody>\n",
              "</table>\n",
              "<p>1025 rows × 14 columns</p>\n",
              "</div>\n",
              "      <button class=\"colab-df-convert\" onclick=\"convertToInteractive('df-90071de9-b7b3-4c12-bac2-b5d627d4a320')\"\n",
              "              title=\"Convert this dataframe to an interactive table.\"\n",
              "              style=\"display:none;\">\n",
              "        \n",
              "  <svg xmlns=\"http://www.w3.org/2000/svg\" height=\"24px\"viewBox=\"0 0 24 24\"\n",
              "       width=\"24px\">\n",
              "    <path d=\"M0 0h24v24H0V0z\" fill=\"none\"/>\n",
              "    <path d=\"M18.56 5.44l.94 2.06.94-2.06 2.06-.94-2.06-.94-.94-2.06-.94 2.06-2.06.94zm-11 1L8.5 8.5l.94-2.06 2.06-.94-2.06-.94L8.5 2.5l-.94 2.06-2.06.94zm10 10l.94 2.06.94-2.06 2.06-.94-2.06-.94-.94-2.06-.94 2.06-2.06.94z\"/><path d=\"M17.41 7.96l-1.37-1.37c-.4-.4-.92-.59-1.43-.59-.52 0-1.04.2-1.43.59L10.3 9.45l-7.72 7.72c-.78.78-.78 2.05 0 2.83L4 21.41c.39.39.9.59 1.41.59.51 0 1.02-.2 1.41-.59l7.78-7.78 2.81-2.81c.8-.78.8-2.07 0-2.86zM5.41 20L4 18.59l7.72-7.72 1.47 1.35L5.41 20z\"/>\n",
              "  </svg>\n",
              "      </button>\n",
              "      \n",
              "  <style>\n",
              "    .colab-df-container {\n",
              "      display:flex;\n",
              "      flex-wrap:wrap;\n",
              "      gap: 12px;\n",
              "    }\n",
              "\n",
              "    .colab-df-convert {\n",
              "      background-color: #E8F0FE;\n",
              "      border: none;\n",
              "      border-radius: 50%;\n",
              "      cursor: pointer;\n",
              "      display: none;\n",
              "      fill: #1967D2;\n",
              "      height: 32px;\n",
              "      padding: 0 0 0 0;\n",
              "      width: 32px;\n",
              "    }\n",
              "\n",
              "    .colab-df-convert:hover {\n",
              "      background-color: #E2EBFA;\n",
              "      box-shadow: 0px 1px 2px rgba(60, 64, 67, 0.3), 0px 1px 3px 1px rgba(60, 64, 67, 0.15);\n",
              "      fill: #174EA6;\n",
              "    }\n",
              "\n",
              "    [theme=dark] .colab-df-convert {\n",
              "      background-color: #3B4455;\n",
              "      fill: #D2E3FC;\n",
              "    }\n",
              "\n",
              "    [theme=dark] .colab-df-convert:hover {\n",
              "      background-color: #434B5C;\n",
              "      box-shadow: 0px 1px 3px 1px rgba(0, 0, 0, 0.15);\n",
              "      filter: drop-shadow(0px 1px 2px rgba(0, 0, 0, 0.3));\n",
              "      fill: #FFFFFF;\n",
              "    }\n",
              "  </style>\n",
              "\n",
              "      <script>\n",
              "        const buttonEl =\n",
              "          document.querySelector('#df-90071de9-b7b3-4c12-bac2-b5d627d4a320 button.colab-df-convert');\n",
              "        buttonEl.style.display =\n",
              "          google.colab.kernel.accessAllowed ? 'block' : 'none';\n",
              "\n",
              "        async function convertToInteractive(key) {\n",
              "          const element = document.querySelector('#df-90071de9-b7b3-4c12-bac2-b5d627d4a320');\n",
              "          const dataTable =\n",
              "            await google.colab.kernel.invokeFunction('convertToInteractive',\n",
              "                                                     [key], {});\n",
              "          if (!dataTable) return;\n",
              "\n",
              "          const docLinkHtml = 'Like what you see? Visit the ' +\n",
              "            '<a target=\"_blank\" href=https://colab.research.google.com/notebooks/data_table.ipynb>data table notebook</a>'\n",
              "            + ' to learn more about interactive tables.';\n",
              "          element.innerHTML = '';\n",
              "          dataTable['output_type'] = 'display_data';\n",
              "          await google.colab.output.renderOutput(dataTable, element);\n",
              "          const docLink = document.createElement('div');\n",
              "          docLink.innerHTML = docLinkHtml;\n",
              "          element.appendChild(docLink);\n",
              "        }\n",
              "      </script>\n",
              "    </div>\n",
              "  </div>\n",
              "  "
            ]
          },
          "metadata": {},
          "execution_count": 72
        }
      ],
      "source": [
        "data"
      ]
    },
    {
      "cell_type": "code",
      "execution_count": 73,
      "metadata": {
        "id": "KCRxrwqqpDFu"
      },
      "outputs": [],
      "source": [
        "y=data['target']\n",
        "X=data.drop('target',axis=1)\n"
      ]
    },
    {
      "cell_type": "code",
      "execution_count": 74,
      "metadata": {
        "id": "w2oCINy3pDFu"
      },
      "outputs": [],
      "source": [
        "from sklearn.model_selection import train_test_split\n",
        "X_train, X_test, y_train, y_test = train_test_split(X, y, test_size=0.3, random_state=0)"
      ]
    },
    {
      "cell_type": "code",
      "source": [
        "scaler = MinMaxScaler()\n",
        "X_train=scaler.fit_transform(X_train)\n",
        "X_test=scaler.fit_transform(X_test)\n"
      ],
      "metadata": {
        "id": "NSnYL6SdFa1r"
      },
      "execution_count": 75,
      "outputs": []
    },
    {
      "cell_type": "markdown",
      "metadata": {
        "id": "gzutmpUspDFu"
      },
      "source": [
        "### The Gaussian Naive Bytes Classifier"
      ]
    },
    {
      "cell_type": "code",
      "execution_count": 76,
      "metadata": {
        "id": "7BE2BDu1pDFw",
        "colab": {
          "base_uri": "https://localhost:8080/",
          "height": 338
        },
        "outputId": "45e43cd2-89be-43d3-c2da-36e253187430"
      },
      "outputs": [
        {
          "output_type": "stream",
          "name": "stderr",
          "text": [
            "/usr/local/lib/python3.7/dist-packages/sklearn/utils/deprecation.py:87: FutureWarning: Function plot_confusion_matrix is deprecated; Function `plot_confusion_matrix` is deprecated in 1.0 and will be removed in 1.2. Use one of the class methods: ConfusionMatrixDisplay.from_predictions or ConfusionMatrixDisplay.from_estimator.\n",
            "  warnings.warn(msg, category=FutureWarning)\n"
          ]
        },
        {
          "output_type": "display_data",
          "data": {
            "text/plain": [
              "<Figure size 432x288 with 2 Axes>"
            ],
            "image/png": "[encoded data removed]"
          },
          "metadata": {
            "needs_background": "light"
          }
        }
      ],
      "source": [
        "from sklearn.naive_bayes import GaussianNB\n",
        "gnb = GaussianNB()\n",
        "gnb.fit(X_train,y_train)\n",
        "y_pred=gnb.predict(X_test)\n",
        "gnb.score(X_test,y_test)\n",
        "plot_confusion_matrix(gnb, X_test, y_test)\n",
        "plt.show()"
      ]
    },
    {
      "cell_type": "code",
      "execution_count": 77,
      "metadata": {
        "id": "IihPfVe3pDFw",
        "colab": {
          "base_uri": "https://localhost:8080/"
        },
        "outputId": "4fe6c87a-50ce-4bb1-c962-6d0fc7b2f215"
      },
      "outputs": [
        {
          "output_type": "stream",
          "name": "stdout",
          "text": [
            "The accuracy for Naive Bytes= 0.8409090909090909\n",
            "Recall: 0.8588957055214724\n"
          ]
        }
      ],
      "source": [
        "print(\"The accuracy for Naive Bytes= \"+str(accuracy_score(y_test,y_pred)))\n",
        "print(\"Recall: \"+str(recall_score(y_test, y_pred)))"
      ]
    },
    {
      "cell_type": "markdown",
      "metadata": {
        "id": "HZWchmpNpDFx"
      },
      "source": [
        "### The Logistic Regression"
      ]
    },
    {
      "cell_type": "code",
      "execution_count": 78,
      "metadata": {
        "id": "KpbeFxUYpDFx",
        "colab": {
          "base_uri": "https://localhost:8080/",
          "height": 334
        },
        "outputId": "525d0ff0-9d34-4003-d10a-966f79707339"
      },
      "outputs": [
        {
          "output_type": "stream",
          "name": "stderr",
          "text": [
            "/usr/local/lib/python3.7/dist-packages/sklearn/utils/deprecation.py:87: FutureWarning: Function plot_confusion_matrix is deprecated; Function `plot_confusion_matrix` is deprecated in 1.0 and will be removed in 1.2. Use one of the class methods: ConfusionMatrixDisplay.from_predictions or ConfusionMatrixDisplay.from_estimator.\n",
            "  warnings.warn(msg, category=FutureWarning)\n"
          ]
        },
        {
          "output_type": "display_data",
          "data": {
            "text/plain": [
              "<Figure size 432x288 with 2 Axes>"
            ],
            "image/png": "[encoded data removed]"
          },
          "metadata": {
            "needs_background": "light"
          }
        }
      ],
      "source": [
        "logisticRegressionmodel=LogisticRegression()\n",
        "logisticRegressionmodel.fit(X_train,y_train)\n",
        "y_pred=logisticRegressionmodel.predict(X_test)\n",
        "plot_confusion_matrix(logisticRegressionmodel, X_test, y_test)\n",
        "plt.show()"
      ]
    },
    {
      "cell_type": "code",
      "execution_count": 79,
      "metadata": {
        "id": "OePdtDi9pDFx",
        "colab": {
          "base_uri": "https://localhost:8080/"
        },
        "outputId": "74408f7e-72a4-4fbc-d1bd-c434e30f2f71"
      },
      "outputs": [
        {
          "output_type": "stream",
          "name": "stdout",
          "text": [
            "The accuracy for Logsitic Regresion= 84.74025974025975\n",
            "Recall: 88.34355828220859\n"
          ]
        }
      ],
      "source": [
        "print(\"The accuracy for Logsitic Regresion= \"+str(accuracy_score(y_test,y_pred)*100))\n",
        "print(\"Recall: \"+str(recall_score(y_test, y_pred)*100))"
      ]
    },
    {
      "cell_type": "markdown",
      "metadata": {
        "id": "Yp5oVN0UpDFy"
      },
      "source": [
        "### KNN algorithm"
      ]
    },
    {
      "cell_type": "code",
      "execution_count": 80,
      "metadata": {
        "colab": {
          "base_uri": "https://localhost:8080/",
          "height": 334
        },
        "id": "LEpBWNn2pDFy",
        "outputId": "7e47bec6-10b4-4942-eecf-a959a9fac3aa"
      },
      "outputs": [
        {
          "output_type": "stream",
          "name": "stderr",
          "text": [
            "/usr/local/lib/python3.7/dist-packages/sklearn/utils/deprecation.py:87: FutureWarning: Function plot_confusion_matrix is deprecated; Function `plot_confusion_matrix` is deprecated in 1.0 and will be removed in 1.2. Use one of the class methods: ConfusionMatrixDisplay.from_predictions or ConfusionMatrixDisplay.from_estimator.\n",
            "  warnings.warn(msg, category=FutureWarning)\n"
          ]
        },
        {
          "output_type": "display_data",
          "data": {
            "text/plain": [
              "<Figure size 432x288 with 2 Axes>"
            ],
            "image/png": "[encoded data removed]"
          },
          "metadata": {
            "needs_background": "light"
          }
        }
      ],
      "source": [
        "score=[]\n",
        "for i in range(1,50):\n",
        "    knnalgo=KNeighborsClassifier(n_neighbors=i)\n",
        "    knnalgo.fit(X_train,y_train)\n",
        "    y_pred=knnalgo.predict(X_test)\n",
        "    temp=mean_squared_error(y_test,y_pred)\n",
        "    score.append(temp)\n",
        "    \n",
        "knnalgo=KNeighborsClassifier(n_neighbors=26)\n",
        "knnalgo.fit(X_train, y_train)\n",
        "y_pred = knnalgo.predict(X_test)\n",
        "temp=mean_squared_error(y_test, y_pred)\n",
        "plot_confusion_matrix(knnalgo, X_test, y_test)\n",
        "plt.show()"
      ]
    },
    {
      "cell_type": "code",
      "execution_count": 81,
      "metadata": {
        "colab": {
          "base_uri": "https://localhost:8080/"
        },
        "id": "sXrxEDrypDFy",
        "outputId": "da773af6-0560-4f7d-8b1a-610b754122de"
      },
      "outputs": [
        {
          "output_type": "stream",
          "name": "stdout",
          "text": [
            "The accuracy for Naive Bytes= 80.84415584415584\n",
            "Recall: 79.14110429447852\n"
          ]
        }
      ],
      "source": [
        "print(\"The accuracy for Naive Bytes= \"+str(accuracy_score(y_test,y_pred)*100))\n",
        "print(\"Recall: \"+str(recall_score(y_test, y_pred)*100))"
      ]
    },
    {
      "cell_type": "markdown",
      "metadata": {
        "id": "e9iePf6-pDFy"
      },
      "source": [
        "### RandomForestRegressor"
      ]
    },
    {
      "cell_type": "code",
      "execution_count": 82,
      "metadata": {
        "id": "CFA1mpSzpDFy",
        "outputId": "20706926-eefc-4682-e618-e831fa22f720",
        "colab": {
          "base_uri": "https://localhost:8080/"
        }
      },
      "outputs": [
        {
          "output_type": "stream",
          "name": "stdout",
          "text": [
            "The accuracy for Random Forest Regressor= 98.74476987447699\n",
            "Recall: 99.44903581267218\n",
            "The Test accuracy for Random Forest Regressor= 97.40259740259741\n",
            "Test Recall: 99.38650306748467\n"
          ]
        }
      ],
      "source": [
        "regressor = RandomForestRegressor(n_estimators = 500,max_depth=6,random_state =1000)\n",
        "regressor.fit(X_train,y_train)\n",
        "y_pred=regressor.predict(X_test)\n",
        "y_pred=(y_pred>0.5)\n",
        "\n",
        "y_test=list(y_test)\n",
        "y_pred=list(y_pred)\n",
        "\n",
        "\n",
        "pred_train=regressor.predict(X_train)\n",
        "pred_train=(pred_train>0.5)\n",
        "\n",
        "print(\"The accuracy for Random Forest Regressor= \"+str(accuracy_score(y_train,pred_train)*100))\n",
        "print(\"Recall: \"+str(recall_score(y_train, pred_train)*100))\n",
        "\n",
        "print(\"The Test accuracy for Random Forest Regressor= \"+str(accuracy_score(y_test,y_pred)*100))\n",
        "print(\"Test Recall: \"+str(recall_score(y_test, y_pred)*100))"
      ]
    },
    {
      "cell_type": "code",
      "source": [
        "conf_train=confusion_matrix(y_train,pred_train)\n",
        "print(\"Accuracy: \"+str(accuracy_score(y_train,pred_train)*100))\n",
        "print(\"Recall: \"+str(recall_score(y_train, pred_train)*100))\n",
        "ax = sns.heatmap(conf_train/np.sum(conf_train), annot=True, \n",
        "            fmt='.2%', cmap='Blues')\n",
        "\n",
        "ax.set_title('Train Data');\n",
        "ax.set_xlabel('\\nPredicted Values')\n",
        "ax.set_ylabel('Actual Values ');\n",
        "\n",
        "ax.xaxis.set_ticklabels(['False','True'])\n",
        "ax.yaxis.set_ticklabels(['False','True'])\n",
        "\n",
        "plt.show()"
      ],
      "metadata": {
        "colab": {
          "base_uri": "https://localhost:8080/",
          "height": 342
        },
        "id": "3sgooawerxP_",
        "outputId": "813e73b3-bae4-40d8-a7f7-b3342d09ff8a"
      },
      "execution_count": 83,
      "outputs": [
        {
          "output_type": "stream",
          "name": "stdout",
          "text": [
            "Accuracy: 98.74476987447699\n",
            "Recall: 99.44903581267218\n"
          ]
        },
        {
          "output_type": "display_data",
          "data": {
            "text/plain": [
              "<Figure size 432x288 with 2 Axes>"
            ],
            "image/png": "[encoded data removed]"
          },
          "metadata": {
            "needs_background": "light"
          }
        }
      ]
    },
    {
      "cell_type": "code",
      "source": [
        "conf_test=confusion_matrix(y_test,y_pred)\n",
        "print(\"Accuracy: \"+str(accuracy_score(y_test,y_pred)*100))\n",
        "print(\"Recall: \"+str(recall_score(y_test, y_pred)*100))\n",
        "ax = sns.heatmap(conf_test/np.sum(conf_test), annot=True, \n",
        "            fmt='.2%', cmap='Blues')\n",
        "\n",
        "ax.set_title('Test Data\\n\\n');\n",
        "ax.set_xlabel('\\nPredicted Values')\n",
        "ax.set_ylabel('Actual Values ');\n",
        "\n",
        "## Ticket labels - List must be in alphabetical order\n",
        "ax.xaxis.set_ticklabels(['False','True'])\n",
        "ax.yaxis.set_ticklabels(['False','True'])\n",
        "\n",
        "## Display the visualization of the Confusion Matrix.\n",
        "plt.show()"
      ],
      "metadata": {
        "colab": {
          "base_uri": "https://localhost:8080/",
          "height": 372
        },
        "id": "c0dsmp3dr-ot",
        "outputId": "50618093-357d-4f8e-846d-bf2904f149d8"
      },
      "execution_count": 84,
      "outputs": [
        {
          "output_type": "stream",
          "name": "stdout",
          "text": [
            "Accuracy: 97.40259740259741\n",
            "Recall: 99.38650306748467\n"
          ]
        },
        {
          "output_type": "display_data",
          "data": {
            "text/plain": [
              "<Figure size 432x288 with 2 Axes>"
            ],
            "image/png": "[encoded data removed]"
          },
          "metadata": {
            "needs_background": "light"
          }
        }
      ]
    },
    {
      "cell_type": "code",
      "source": [
        "false_positive_rate1, true_positive_rate1, threshold1 = roc_curve(y_test, y_pred)\n",
        "auc=roc_auc_score(y_test,y_pred)\n",
        "print(auc)\n",
        "plt.subplots(1, figsize=(10,10))\n",
        "plt.title('ROC Curve for Heart Disease Predictor')\n",
        "plt.plot(false_positive_rate1, true_positive_rate1)\n",
        "plt.plot([0, 1], ls=\"--\")\n",
        "plt.plot([0, 0], [1, 0] , c=\".7\"), plt.plot([1, 1] , c=\".7\")\n",
        "plt.ylabel('True Positive Rate')\n",
        "plt.xlabel('False Positive Rate')\n",
        "plt.show()"
      ],
      "metadata": {
        "colab": {
          "base_uri": "https://localhost:8080/",
          "height": 638
        },
        "id": "v8briSdTNBKU",
        "outputId": "0d8cda20-4bd7-4877-d5b4-9ab4db2c8471"
      },
      "execution_count": 85,
      "outputs": [
        {
          "output_type": "stream",
          "name": "stdout",
          "text": [
            "0.9727945843029406\n"
          ]
        },
        {
          "output_type": "display_data",
          "data": {
            "text/plain": [
              "<Figure size 720x720 with 1 Axes>"
            ],
            "image/png": "[encoded data removed]"
          },
          "metadata": {
            "needs_background": "light"
          }
        }
      ]
    },
    {
      "cell_type": "markdown",
      "metadata": {
        "id": "P5YlTHJ3pDFz"
      },
      "source": [
        "### RNN\n"
      ]
    },
    {
      "cell_type": "code",
      "execution_count": 87,
      "metadata": {
        "id": "cMf2vdg9pDFz"
      },
      "outputs": [],
      "source": [
        "time_step=13\n",
        "model = Sequential(name=\"RNN-Model\") \n",
        "model.add(Input(shape=(time_step,1), name='Input-Layer')) \n",
        "model.add(SimpleRNN(units=6, activation='tanh', name='Hidden-Recurrent-Layer')) \n",
        "model.add(Dense(units=1, activation='tanh', name='Hidden-Layer')) \n",
        "model.add(Dense(units=1, activation='tanh',name='Hidden-Layer-2'))\n",
        "model.add(Dense(units=1, activation='tanh',name='Hidden-Layer-3'))\n",
        "model.add(Dense(units=1, activation='tanh',name='Hidden-Layer-4'))\n",
        "model.add(Dense(units=1, activation='tanh',name='Hidden-Layer-5'))\n",
        "model.add(Dense(units=1, activation='tanh',name='Hidden-Layer-6'))\n",
        "model.add(Dense(units=1, activation='tanh',name='Hidden-Layer-7'))\n",
        "model.add(Dense(units=1, activation='sigmoid', name='Output-Layer')) \n",
        "model.compile(loss='binary_crossentropy', optimizer='adam', metrics=['accuracy'])"
      ]
    },
    {
      "cell_type": "code",
      "source": [
        "y_train=np.array(y_train).reshape(-1)"
      ],
      "metadata": {
        "id": "-HucYuVxqv7o"
      },
      "execution_count": 88,
      "outputs": []
    },
    {
      "cell_type": "code",
      "source": [
        "model.fit(X_train, y_train, \n",
        "          batch_size=1, \n",
        "          epochs=30, \n",
        "          verbose='auto',\n",
        "          callbacks=None)"
      ],
      "metadata": {
        "colab": {
          "base_uri": "https://localhost:8080/"
        },
        "id": "KPKnb8utrsLk",
        "outputId": "3cc8882d-fdba-4c22-fb4d-b2625134300f"
      },
      "execution_count": 89,
      "outputs": [
        {
          "output_type": "stream",
          "name": "stdout",
          "text": [
            "Epoch 1/30\n",
            "717/717 [==============================] - 3s 3ms/step - loss: 0.5701 - accuracy: 0.7531\n",
            "Epoch 2/30\n",
            "717/717 [==============================] - 2s 3ms/step - loss: 0.5196 - accuracy: 0.7852\n",
            "Epoch 3/30\n",
            "717/717 [==============================] - 2s 3ms/step - loss: 0.4847 - accuracy: 0.8047\n",
            "Epoch 4/30\n",
            "717/717 [==============================] - 2s 3ms/step - loss: 0.4993 - accuracy: 0.7894\n",
            "Epoch 5/30\n",
            "717/717 [==============================] - 2s 3ms/step - loss: 0.4701 - accuracy: 0.8103\n",
            "Epoch 6/30\n",
            "717/717 [==============================] - 2s 3ms/step - loss: 0.4552 - accuracy: 0.8215\n",
            "Epoch 7/30\n",
            "717/717 [==============================] - 2s 3ms/step - loss: 0.4652 - accuracy: 0.8117\n",
            "Epoch 8/30\n",
            "717/717 [==============================] - 2s 3ms/step - loss: 0.4442 - accuracy: 0.8271\n",
            "Epoch 9/30\n",
            "717/717 [==============================] - 2s 3ms/step - loss: 0.4362 - accuracy: 0.8298\n",
            "Epoch 10/30\n",
            "717/717 [==============================] - 2s 3ms/step - loss: 0.4311 - accuracy: 0.8382\n",
            "Epoch 11/30\n",
            "717/717 [==============================] - 2s 3ms/step - loss: 0.4215 - accuracy: 0.8424\n",
            "Epoch 12/30\n",
            "717/717 [==============================] - 2s 3ms/step - loss: 0.4206 - accuracy: 0.8438\n",
            "Epoch 13/30\n",
            "717/717 [==============================] - 2s 3ms/step - loss: 0.4185 - accuracy: 0.8494\n",
            "Epoch 14/30\n",
            "717/717 [==============================] - 2s 3ms/step - loss: 0.4257 - accuracy: 0.8354\n",
            "Epoch 15/30\n",
            "717/717 [==============================] - 2s 3ms/step - loss: 0.4159 - accuracy: 0.8494\n",
            "Epoch 16/30\n",
            "717/717 [==============================] - 2s 3ms/step - loss: 0.4162 - accuracy: 0.8424\n",
            "Epoch 17/30\n",
            "717/717 [==============================] - 2s 3ms/step - loss: 0.4138 - accuracy: 0.8522\n",
            "Epoch 18/30\n",
            "717/717 [==============================] - 2s 3ms/step - loss: 0.4136 - accuracy: 0.8452\n",
            "Epoch 19/30\n",
            "717/717 [==============================] - 2s 3ms/step - loss: 0.4120 - accuracy: 0.8466\n",
            "Epoch 20/30\n",
            "717/717 [==============================] - 2s 3ms/step - loss: 0.4143 - accuracy: 0.8438\n",
            "Epoch 21/30\n",
            "717/717 [==============================] - 2s 3ms/step - loss: 0.4071 - accuracy: 0.8480\n",
            "Epoch 22/30\n",
            "717/717 [==============================] - 2s 3ms/step - loss: 0.4007 - accuracy: 0.8536\n",
            "Epoch 23/30\n",
            "717/717 [==============================] - 2s 3ms/step - loss: 0.4064 - accuracy: 0.8452\n",
            "Epoch 24/30\n",
            "717/717 [==============================] - 2s 3ms/step - loss: 0.3946 - accuracy: 0.8536\n",
            "Epoch 25/30\n",
            "717/717 [==============================] - 2s 3ms/step - loss: 0.3917 - accuracy: 0.8522\n",
            "Epoch 26/30\n",
            "717/717 [==============================] - 2s 3ms/step - loss: 0.3901 - accuracy: 0.8508\n",
            "Epoch 27/30\n",
            "717/717 [==============================] - 3s 4ms/step - loss: 0.3854 - accuracy: 0.8605\n",
            "Epoch 28/30\n",
            "717/717 [==============================] - 2s 3ms/step - loss: 0.3850 - accuracy: 0.8591\n",
            "Epoch 29/30\n",
            "717/717 [==============================] - 2s 3ms/step - loss: 0.3815 - accuracy: 0.8563\n",
            "Epoch 30/30\n",
            "717/717 [==============================] - 2s 3ms/step - loss: 0.3715 - accuracy: 0.8675\n"
          ]
        },
        {
          "output_type": "execute_result",
          "data": {
            "text/plain": [
              "<keras.callbacks.History at 0x7f043332c1d0>"
            ]
          },
          "metadata": {},
          "execution_count": 89
        }
      ]
    },
    {
      "cell_type": "code",
      "source": [
        "pred_train = model.predict(X_train)\n",
        "pred_test = model.predict(X_test)\n",
        "pred_train = (pred_train > 0.5)\n",
        "pred_test = (pred_test > 0.5)\n",
        "\n",
        "print(\"\")\n",
        "print('-------------------- Model Summary --------------------')\n",
        "model.summary()\n",
        "print(\"\")\n",
        "print('---------- Evaluation on Training Data ----------')\n",
        "print(\"Accuracy (on train data): \", accuracy_score(y_train, pred_train)*100)\n",
        "print(\"\")\n",
        "print(\"Recall (on train data): \", recall_score(y_train, pred_train)*100)\n",
        "print(\"\")\n",
        "\n",
        "\n",
        "print('---------- Evaluation on Test Data ----------')\n",
        "print(\"Accuracy (on test data):  \", accuracy_score(y_test, pred_test)*100)\n",
        "print(\"\")\n",
        "print(\"Recall (on test data):  \", recall_score(y_test, pred_test)*100)\n",
        "print(\"\")"
      ],
      "metadata": {
        "id": "hlPX1lyxsVdC",
        "colab": {
          "base_uri": "https://localhost:8080/"
        },
        "outputId": "0dac1914-2eee-45d6-f3ad-6e40ba22b500"
      },
      "execution_count": 90,
      "outputs": [
        {
          "output_type": "stream",
          "name": "stdout",
          "text": [
            "\n",
            "-------------------- Model Summary --------------------\n",
            "Model: \"RNN-Model\"\n",
            "_________________________________________________________________\n",
            " Layer (type)                Output Shape              Param #   \n",
            "=================================================================\n",
            " Hidden-Recurrent-Layer (Sim  (None, 6)                48        \n",
            " pleRNN)                                                         \n",
            "                                                                 \n",
            " Hidden-Layer (Dense)        (None, 1)                 7         \n",
            "                                                                 \n",
            " Hidden-Layer-2 (Dense)      (None, 1)                 2         \n",
            "                                                                 \n",
            " Hidden-Layer-3 (Dense)      (None, 1)                 2         \n",
            "                                                                 \n",
            " Hidden-Layer-4 (Dense)      (None, 1)                 2         \n",
            "                                                                 \n",
            " Hidden-Layer-5 (Dense)      (None, 1)                 2         \n",
            "                                                                 \n",
            " Hidden-Layer-6 (Dense)      (None, 1)                 2         \n",
            "                                                                 \n",
            " Hidden-Layer-7 (Dense)      (None, 1)                 2         \n",
            "                                                                 \n",
            " Output-Layer (Dense)        (None, 1)                 2         \n",
            "                                                                 \n",
            "=================================================================\n",
            "Total params: 69\n",
            "Trainable params: 69\n",
            "Non-trainable params: 0\n",
            "_________________________________________________________________\n",
            "\n",
            "---------- Evaluation on Training Data ----------\n",
            "Accuracy (on train data):  84.93723849372385\n",
            "\n",
            "Recall (on train data):  82.36914600550963\n",
            "\n",
            "---------- Evaluation on Test Data ----------\n",
            "Accuracy (on test data):   83.76623376623377\n",
            "\n",
            "Recall (on test data):   80.3680981595092\n",
            "\n"
          ]
        }
      ]
    },
    {
      "cell_type": "code",
      "source": [
        "conf_train=confusion_matrix(y_train,pred_train)\n",
        "print(\"Accuracy: \"+str(accuracy_score(y_train,pred_train)*100))\n",
        "print(\"Recall: \"+str(recall_score(y_train, pred_train)*100))\n",
        "ax = sns.heatmap(conf_train/np.sum(conf_train), annot=True, \n",
        "            fmt='.2%', cmap='Blues')\n",
        "\n",
        "ax.set_title('Train Data');\n",
        "ax.set_xlabel('\\nPredicted Values')\n",
        "ax.set_ylabel('Actual Values ');\n",
        "\n",
        "ax.xaxis.set_ticklabels(['False','True'])\n",
        "ax.yaxis.set_ticklabels(['False','True'])\n",
        "\n",
        "plt.show()"
      ],
      "metadata": {
        "colab": {
          "base_uri": "https://localhost:8080/",
          "height": 342
        },
        "id": "NBAezLbxt7gS",
        "outputId": "a510d8d1-6fef-4881-be60-e764eb2efadd"
      },
      "execution_count": 91,
      "outputs": [
        {
          "output_type": "stream",
          "name": "stdout",
          "text": [
            "Accuracy: 84.93723849372385\n",
            "Recall: 82.36914600550963\n"
          ]
        },
        {
          "output_type": "display_data",
          "data": {
            "text/plain": [
              "<Figure size 432x288 with 2 Axes>"
            ],
            "image/png": "[encoded data removed]"
          },
          "metadata": {
            "needs_background": "light"
          }
        }
      ]
    },
    {
      "cell_type": "code",
      "source": [
        "conf_test=confusion_matrix(y_test,pred_test)\n",
        "print(\"Accuracy: \"+str(accuracy_score(y_test,pred_test)*100))\n",
        "print(\"Recall: \"+str(recall_score(y_test, pred_test)*100))\n",
        "ax = sns.heatmap(conf_test/np.sum(conf_test), annot=True, \n",
        "            fmt='.2%', cmap='Blues')\n",
        "\n",
        "ax.set_title('Test Data\\n\\n');\n",
        "ax.set_xlabel('\\nPredicted Values')\n",
        "ax.set_ylabel('Actual Values ');\n",
        "\n",
        "## Ticket labels - List must be in alphabetical order\n",
        "ax.xaxis.set_ticklabels(['False','True'])\n",
        "ax.yaxis.set_ticklabels(['False','True'])\n",
        "\n",
        "## Display the visualization of the Confusion Matrix.\n",
        "plt.show()"
      ],
      "metadata": {
        "colab": {
          "base_uri": "https://localhost:8080/",
          "height": 372
        },
        "id": "cAuFZqhOt-Mf",
        "outputId": "b1a090c3-25a1-42eb-a7cb-1e3fc625abda"
      },
      "execution_count": 92,
      "outputs": [
        {
          "output_type": "stream",
          "name": "stdout",
          "text": [
            "Accuracy: 83.76623376623377\n",
            "Recall: 80.3680981595092\n"
          ]
        },
        {
          "output_type": "display_data",
          "data": {
            "text/plain": [
              "<Figure size 432x288 with 2 Axes>"
            ],
            "image/png": "[encoded data removed]"
          },
          "metadata": {
            "needs_background": "light"
          }
        }
      ]
    },
    {
      "cell_type": "code",
      "source": [
        "plot_model(model, to_file='model_plot.png', show_shapes=True, show_layer_names=True)"
      ],
      "metadata": {
        "colab": {
          "base_uri": "https://localhost:8080/",
          "height": 1000
        },
        "id": "ZEVth9UQukBL",
        "outputId": "6e97b24e-5ebd-4046-a31d-1352c693c160"
      },
      "execution_count": 93,
      "outputs": [
        {
          "output_type": "execute_result",
          "data": {
            "text/plain": [
              "<IPython.core.display.Image object>"
            ],
            "image/png": "[encoded data removed]"
          },
          "metadata": {},
          "execution_count": 93
        }
      ]
    },
    {
      "cell_type": "code",
      "source": [
        "false_positive_rate1, true_positive_rate1, threshold1 = roc_curve(y_test, pred_test)\n",
        "auc=roc_auc_score(y_test,pred_test)\n",
        "print(auc)\n",
        "plt.subplots(1, figsize=(10,10))\n",
        "plt.title('ROC Curve for Heart Disease Predictor')\n",
        "plt.plot(false_positive_rate1, true_positive_rate1)\n",
        "plt.plot([0, 1], ls=\"--\")\n",
        "plt.plot([0, 0], [1, 0] , c=\".7\"), plt.plot([1, 1] , c=\".7\")\n",
        "plt.ylabel('True Positive Rate')\n",
        "plt.xlabel('False Positive Rate')\n",
        "plt.show()"
      ],
      "metadata": {
        "colab": {
          "base_uri": "https://localhost:8080/",
          "height": 638
        },
        "id": "ZGvhDzxhQb2l",
        "outputId": "59ca749b-1cdd-466e-a18c-cae7cde3c089"
      },
      "execution_count": 94,
      "outputs": [
        {
          "output_type": "stream",
          "name": "stdout",
          "text": [
            "0.8397715252803046\n"
          ]
        },
        {
          "output_type": "display_data",
          "data": {
            "text/plain": [
              "<Figure size 720x720 with 1 Axes>"
            ],
            "image/png": "[encoded data removed]"
          },
          "metadata": {
            "needs_background": "light"
          }
        }
      ]
    },
    {
      "cell_type": "markdown",
      "source": [
        "### ANN Model"
      ],
      "metadata": {
        "id": "sLDMMvN1gRoM"
      }
    },
    {
      "cell_type": "code",
      "source": [
        "annmodel = Sequential([Dense(units=4,input_shape=(13,),activation='relu'),\n",
        "                    Dense(units=6,activation='relu'),\n",
        "                    keras.layers.Dropout(0.3),\n",
        "                    Dense(units=8,activation='relu'),\n",
        "                    keras.layers.Dropout(0.3),\n",
        "                    Dense(units=1,activation='sigmoid')])"
      ],
      "metadata": {
        "id": "muBiQ6YmupMk"
      },
      "execution_count": 95,
      "outputs": []
    },
    {
      "cell_type": "code",
      "source": [
        "annmodel.compile(optimizer='adam',loss='binary_crossentropy',metrics=['accuracy'])"
      ],
      "metadata": {
        "id": "qwSVsOHHhStP"
      },
      "execution_count": 96,
      "outputs": []
    },
    {
      "cell_type": "code",
      "source": [
        "annmodel.fit(X_train, y_train, \n",
        "          batch_size=1, \n",
        "          epochs=100, \n",
        "          verbose='auto')"
      ],
      "metadata": {
        "colab": {
          "base_uri": "https://localhost:8080/"
        },
        "id": "-0azgkF-hbNl",
        "outputId": "dd722723-298f-4572-af30-8e011dcd020d"
      },
      "execution_count": 97,
      "outputs": [
        {
          "output_type": "stream",
          "name": "stdout",
          "text": [
            "Epoch 1/100\n",
            "717/717 [==============================] - 2s 1ms/step - loss: 0.6943 - accuracy: 0.5174\n",
            "Epoch 2/100\n",
            "717/717 [==============================] - 1s 2ms/step - loss: 0.6683 - accuracy: 0.5760\n",
            "Epoch 3/100\n",
            "717/717 [==============================] - 1s 2ms/step - loss: 0.6332 - accuracy: 0.6792\n",
            "Epoch 4/100\n",
            "717/717 [==============================] - 1s 1ms/step - loss: 0.6069 - accuracy: 0.6862\n",
            "Epoch 5/100\n",
            "717/717 [==============================] - 1s 1ms/step - loss: 0.5984 - accuracy: 0.7001\n",
            "Epoch 6/100\n",
            "717/717 [==============================] - 1s 1ms/step - loss: 0.5628 - accuracy: 0.7155\n",
            "Epoch 7/100\n",
            "717/717 [==============================] - 1s 1ms/step - loss: 0.5470 - accuracy: 0.7406\n",
            "Epoch 8/100\n",
            "717/717 [==============================] - 1s 1ms/step - loss: 0.5659 - accuracy: 0.7294\n",
            "Epoch 9/100\n",
            "717/717 [==============================] - 1s 2ms/step - loss: 0.5316 - accuracy: 0.7545\n",
            "Epoch 10/100\n",
            "717/717 [==============================] - 1s 2ms/step - loss: 0.5331 - accuracy: 0.7503\n",
            "Epoch 11/100\n",
            "717/717 [==============================] - 1s 1ms/step - loss: 0.5070 - accuracy: 0.7727\n",
            "Epoch 12/100\n",
            "717/717 [==============================] - 1s 2ms/step - loss: 0.5028 - accuracy: 0.7671\n",
            "Epoch 13/100\n",
            "717/717 [==============================] - 1s 1ms/step - loss: 0.4999 - accuracy: 0.7755\n",
            "Epoch 14/100\n",
            "717/717 [==============================] - 1s 2ms/step - loss: 0.5052 - accuracy: 0.7657\n",
            "Epoch 15/100\n",
            "717/717 [==============================] - 1s 1ms/step - loss: 0.4897 - accuracy: 0.7866\n",
            "Epoch 16/100\n",
            "717/717 [==============================] - 1s 1ms/step - loss: 0.4640 - accuracy: 0.8006\n",
            "Epoch 17/100\n",
            "717/717 [==============================] - 1s 1ms/step - loss: 0.4657 - accuracy: 0.7964\n",
            "Epoch 18/100\n",
            "717/717 [==============================] - 1s 1ms/step - loss: 0.4697 - accuracy: 0.7810\n",
            "Epoch 19/100\n",
            "717/717 [==============================] - 1s 1ms/step - loss: 0.4745 - accuracy: 0.7866\n",
            "Epoch 20/100\n",
            "717/717 [==============================] - 1s 2ms/step - loss: 0.4581 - accuracy: 0.8020\n",
            "Epoch 21/100\n",
            "717/717 [==============================] - 1s 2ms/step - loss: 0.4667 - accuracy: 0.7824\n",
            "Epoch 22/100\n",
            "717/717 [==============================] - 1s 2ms/step - loss: 0.4429 - accuracy: 0.8020\n",
            "Epoch 23/100\n",
            "717/717 [==============================] - 1s 1ms/step - loss: 0.4539 - accuracy: 0.7964\n",
            "Epoch 24/100\n",
            "717/717 [==============================] - 1s 1ms/step - loss: 0.4505 - accuracy: 0.8061\n",
            "Epoch 25/100\n",
            "717/717 [==============================] - 1s 1ms/step - loss: 0.4504 - accuracy: 0.7838\n",
            "Epoch 26/100\n",
            "717/717 [==============================] - 1s 2ms/step - loss: 0.4507 - accuracy: 0.7810\n",
            "Epoch 27/100\n",
            "717/717 [==============================] - 1s 1ms/step - loss: 0.4276 - accuracy: 0.8061\n",
            "Epoch 28/100\n",
            "717/717 [==============================] - 1s 1ms/step - loss: 0.4359 - accuracy: 0.7880\n",
            "Epoch 29/100\n",
            "717/717 [==============================] - 1s 2ms/step - loss: 0.4207 - accuracy: 0.8006\n",
            "Epoch 30/100\n",
            "717/717 [==============================] - 1s 1ms/step - loss: 0.4333 - accuracy: 0.8103\n",
            "Epoch 31/100\n",
            "717/717 [==============================] - 1s 1ms/step - loss: 0.4158 - accuracy: 0.7950\n",
            "Epoch 32/100\n",
            "717/717 [==============================] - 1s 1ms/step - loss: 0.4234 - accuracy: 0.8006\n",
            "Epoch 33/100\n",
            "717/717 [==============================] - 1s 1ms/step - loss: 0.4157 - accuracy: 0.8089\n",
            "Epoch 34/100\n",
            "717/717 [==============================] - 1s 1ms/step - loss: 0.4400 - accuracy: 0.7936\n",
            "Epoch 35/100\n",
            "717/717 [==============================] - 1s 1ms/step - loss: 0.4435 - accuracy: 0.7964\n",
            "Epoch 36/100\n",
            "717/717 [==============================] - 1s 1ms/step - loss: 0.4252 - accuracy: 0.8159\n",
            "Epoch 37/100\n",
            "717/717 [==============================] - 1s 2ms/step - loss: 0.4152 - accuracy: 0.8089\n",
            "Epoch 38/100\n",
            "717/717 [==============================] - 1s 2ms/step - loss: 0.4405 - accuracy: 0.7936\n",
            "Epoch 39/100\n",
            "717/717 [==============================] - 1s 1ms/step - loss: 0.4233 - accuracy: 0.8089\n",
            "Epoch 40/100\n",
            "717/717 [==============================] - 1s 1ms/step - loss: 0.4187 - accuracy: 0.7950\n",
            "Epoch 41/100\n",
            "717/717 [==============================] - 1s 1ms/step - loss: 0.4154 - accuracy: 0.8006\n",
            "Epoch 42/100\n",
            "717/717 [==============================] - 1s 1ms/step - loss: 0.4073 - accuracy: 0.8061\n",
            "Epoch 43/100\n",
            "717/717 [==============================] - 1s 1ms/step - loss: 0.4199 - accuracy: 0.8145\n",
            "Epoch 44/100\n",
            "717/717 [==============================] - 1s 2ms/step - loss: 0.4171 - accuracy: 0.7950\n",
            "Epoch 45/100\n",
            "717/717 [==============================] - 1s 2ms/step - loss: 0.4251 - accuracy: 0.8020\n",
            "Epoch 46/100\n",
            "717/717 [==============================] - 1s 1ms/step - loss: 0.4377 - accuracy: 0.7936\n",
            "Epoch 47/100\n",
            "717/717 [==============================] - 1s 2ms/step - loss: 0.4164 - accuracy: 0.8006\n",
            "Epoch 48/100\n",
            "717/717 [==============================] - 1s 2ms/step - loss: 0.4154 - accuracy: 0.8075\n",
            "Epoch 49/100\n",
            "717/717 [==============================] - 1s 1ms/step - loss: 0.4193 - accuracy: 0.8006\n",
            "Epoch 50/100\n",
            "717/717 [==============================] - 1s 1ms/step - loss: 0.4059 - accuracy: 0.8089\n",
            "Epoch 51/100\n",
            "717/717 [==============================] - 1s 2ms/step - loss: 0.3957 - accuracy: 0.7992\n",
            "Epoch 52/100\n",
            "717/717 [==============================] - 1s 2ms/step - loss: 0.4017 - accuracy: 0.8061\n",
            "Epoch 53/100\n",
            "717/717 [==============================] - 1s 1ms/step - loss: 0.4237 - accuracy: 0.7992\n",
            "Epoch 54/100\n",
            "717/717 [==============================] - 1s 2ms/step - loss: 0.4165 - accuracy: 0.8006\n",
            "Epoch 55/100\n",
            "717/717 [==============================] - 1s 1ms/step - loss: 0.4089 - accuracy: 0.8145\n",
            "Epoch 56/100\n",
            "717/717 [==============================] - 1s 1ms/step - loss: 0.3999 - accuracy: 0.8089\n",
            "Epoch 57/100\n",
            "717/717 [==============================] - 1s 2ms/step - loss: 0.4306 - accuracy: 0.7992\n",
            "Epoch 58/100\n",
            "717/717 [==============================] - 1s 2ms/step - loss: 0.4180 - accuracy: 0.7824\n",
            "Epoch 59/100\n",
            "717/717 [==============================] - 1s 1ms/step - loss: 0.4322 - accuracy: 0.8075\n",
            "Epoch 60/100\n",
            "717/717 [==============================] - 1s 2ms/step - loss: 0.4057 - accuracy: 0.8187\n",
            "Epoch 61/100\n",
            "717/717 [==============================] - 1s 2ms/step - loss: 0.4027 - accuracy: 0.8075\n",
            "Epoch 62/100\n",
            "717/717 [==============================] - 1s 1ms/step - loss: 0.4145 - accuracy: 0.7992\n",
            "Epoch 63/100\n",
            "717/717 [==============================] - 1s 2ms/step - loss: 0.4118 - accuracy: 0.8061\n",
            "Epoch 64/100\n",
            "717/717 [==============================] - 1s 2ms/step - loss: 0.4189 - accuracy: 0.7824\n",
            "Epoch 65/100\n",
            "717/717 [==============================] - 1s 1ms/step - loss: 0.4062 - accuracy: 0.7880\n",
            "Epoch 66/100\n",
            "717/717 [==============================] - 1s 2ms/step - loss: 0.4083 - accuracy: 0.8075\n",
            "Epoch 67/100\n",
            "717/717 [==============================] - 1s 2ms/step - loss: 0.4335 - accuracy: 0.7964\n",
            "Epoch 68/100\n",
            "717/717 [==============================] - 1s 2ms/step - loss: 0.3958 - accuracy: 0.8145\n",
            "Epoch 69/100\n",
            "717/717 [==============================] - 1s 2ms/step - loss: 0.4071 - accuracy: 0.7964\n",
            "Epoch 70/100\n",
            "717/717 [==============================] - 2s 3ms/step - loss: 0.3935 - accuracy: 0.8271\n",
            "Epoch 71/100\n",
            "717/717 [==============================] - 2s 3ms/step - loss: 0.3902 - accuracy: 0.8159\n",
            "Epoch 72/100\n",
            "717/717 [==============================] - 2s 3ms/step - loss: 0.4183 - accuracy: 0.7964\n",
            "Epoch 73/100\n",
            "717/717 [==============================] - 2s 3ms/step - loss: 0.4163 - accuracy: 0.7796\n",
            "Epoch 74/100\n",
            "717/717 [==============================] - 3s 4ms/step - loss: 0.4060 - accuracy: 0.8131\n",
            "Epoch 75/100\n",
            "717/717 [==============================] - 3s 4ms/step - loss: 0.3986 - accuracy: 0.7880\n",
            "Epoch 76/100\n",
            "717/717 [==============================] - 3s 4ms/step - loss: 0.3991 - accuracy: 0.8020\n",
            "Epoch 77/100\n",
            "717/717 [==============================] - 3s 5ms/step - loss: 0.4105 - accuracy: 0.8006\n",
            "Epoch 78/100\n",
            "717/717 [==============================] - 3s 4ms/step - loss: 0.3814 - accuracy: 0.8285\n",
            "Epoch 79/100\n",
            "717/717 [==============================] - 2s 3ms/step - loss: 0.4174 - accuracy: 0.8131\n",
            "Epoch 80/100\n",
            "717/717 [==============================] - 2s 3ms/step - loss: 0.4076 - accuracy: 0.7964\n",
            "Epoch 81/100\n",
            "717/717 [==============================] - 1s 2ms/step - loss: 0.3903 - accuracy: 0.8117\n",
            "Epoch 82/100\n",
            "717/717 [==============================] - 1s 2ms/step - loss: 0.4144 - accuracy: 0.7950\n",
            "Epoch 83/100\n",
            "717/717 [==============================] - 1s 2ms/step - loss: 0.3878 - accuracy: 0.8131\n",
            "Epoch 84/100\n",
            "717/717 [==============================] - 1s 1ms/step - loss: 0.3990 - accuracy: 0.8117\n",
            "Epoch 85/100\n",
            "717/717 [==============================] - 1s 2ms/step - loss: 0.4134 - accuracy: 0.8006\n",
            "Epoch 86/100\n",
            "717/717 [==============================] - 1s 1ms/step - loss: 0.4193 - accuracy: 0.8075\n",
            "Epoch 87/100\n",
            "717/717 [==============================] - 1s 2ms/step - loss: 0.4037 - accuracy: 0.8006\n",
            "Epoch 88/100\n",
            "717/717 [==============================] - 1s 1ms/step - loss: 0.4197 - accuracy: 0.7852\n",
            "Epoch 89/100\n",
            "717/717 [==============================] - 1s 2ms/step - loss: 0.3867 - accuracy: 0.8075\n",
            "Epoch 90/100\n",
            "717/717 [==============================] - 1s 2ms/step - loss: 0.3867 - accuracy: 0.7992\n",
            "Epoch 91/100\n",
            "717/717 [==============================] - 1s 2ms/step - loss: 0.4038 - accuracy: 0.7936\n",
            "Epoch 92/100\n",
            "717/717 [==============================] - 1s 2ms/step - loss: 0.3983 - accuracy: 0.8243\n",
            "Epoch 93/100\n",
            "717/717 [==============================] - 1s 2ms/step - loss: 0.3996 - accuracy: 0.7936\n",
            "Epoch 94/100\n",
            "717/717 [==============================] - 1s 1ms/step - loss: 0.3849 - accuracy: 0.7964\n",
            "Epoch 95/100\n",
            "717/717 [==============================] - 1s 2ms/step - loss: 0.4100 - accuracy: 0.8103\n",
            "Epoch 96/100\n",
            "717/717 [==============================] - 1s 2ms/step - loss: 0.4076 - accuracy: 0.8117\n",
            "Epoch 97/100\n",
            "717/717 [==============================] - 1s 2ms/step - loss: 0.4040 - accuracy: 0.8117\n",
            "Epoch 98/100\n",
            "717/717 [==============================] - 1s 1ms/step - loss: 0.3894 - accuracy: 0.8159\n",
            "Epoch 99/100\n",
            "717/717 [==============================] - 1s 2ms/step - loss: 0.3927 - accuracy: 0.8159\n",
            "Epoch 100/100\n",
            "717/717 [==============================] - 1s 2ms/step - loss: 0.3942 - accuracy: 0.8201\n"
          ]
        },
        {
          "output_type": "execute_result",
          "data": {
            "text/plain": [
              "<keras.callbacks.History at 0x7f042fafc9d0>"
            ]
          },
          "metadata": {},
          "execution_count": 97
        }
      ]
    },
    {
      "cell_type": "code",
      "source": [
        "pred_train = annmodel.predict(X_train)\n",
        "pred_test = annmodel.predict(X_test)\n",
        "pred_train = (pred_train > 0.5)\n",
        "pred_test = (pred_test > 0.5)\n",
        "\n",
        "print(\"\")\n",
        "print('-------------------- Model Summary --------------------')\n",
        "annmodel.summary()\n",
        "print(\"\")\n",
        "print('---------- Evaluation on Training Data ----------')\n",
        "print(\"Accuracy (on train data): \", accuracy_score(y_train, pred_train)*100)\n",
        "print(\"\")\n",
        "print(\"Recall (on train data): \", recall_score(y_train, pred_train)*100)\n",
        "print(\"\")\n",
        "\n",
        "\n",
        "print('---------- Evaluation on Test Data ----------')\n",
        "print(\"Accuracy (on test data):  \", accuracy_score(y_test, pred_test)*100)\n",
        "print(\"\")\n",
        "print(\"Recall (on test data):  \", recall_score(y_test, pred_test)*100)\n",
        "print(\"\")"
      ],
      "metadata": {
        "colab": {
          "base_uri": "https://localhost:8080/"
        },
        "id": "BknwyH4OhkfH",
        "outputId": "771b982f-ae2e-4bea-ff87-9ee21c8c2665"
      },
      "execution_count": 98,
      "outputs": [
        {
          "output_type": "stream",
          "name": "stdout",
          "text": [
            "\n",
            "-------------------- Model Summary --------------------\n",
            "Model: \"sequential_1\"\n",
            "_________________________________________________________________\n",
            " Layer (type)                Output Shape              Param #   \n",
            "=================================================================\n",
            " dense_4 (Dense)             (None, 4)                 56        \n",
            "                                                                 \n",
            " dense_5 (Dense)             (None, 6)                 30        \n",
            "                                                                 \n",
            " dropout_2 (Dropout)         (None, 6)                 0         \n",
            "                                                                 \n",
            " dense_6 (Dense)             (None, 8)                 56        \n",
            "                                                                 \n",
            " dropout_3 (Dropout)         (None, 8)                 0         \n",
            "                                                                 \n",
            " dense_7 (Dense)             (None, 1)                 9         \n",
            "                                                                 \n",
            "=================================================================\n",
            "Total params: 151\n",
            "Trainable params: 151\n",
            "Non-trainable params: 0\n",
            "_________________________________________________________________\n",
            "\n",
            "---------- Evaluation on Training Data ----------\n",
            "Accuracy (on train data):  84.10041841004184\n",
            "\n",
            "Recall (on train data):  85.39944903581267\n",
            "\n",
            "---------- Evaluation on Test Data ----------\n",
            "Accuracy (on test data):   86.36363636363636\n",
            "\n",
            "Recall (on test data):   87.11656441717791\n",
            "\n"
          ]
        }
      ]
    },
    {
      "cell_type": "code",
      "source": [
        ""
      ],
      "metadata": {
        "id": "schYYfofpcCx"
      },
      "execution_count": 98,
      "outputs": []
    }
  ],
  "metadata": {
    "interpreter": {
      "hash": "89159dfaa64e4e1c7c1c721b2c5e03e74cb7512bee140046fb329d4455e78d99"
    },
    "kernelspec": {
      "display_name": "Python 3.9.7 ('ECG')",
      "language": "python",
      "name": "python3"
    },
    "language_info": {
      "codemirror_mode": {
        "name": "ipython",
        "version": 3
      },
      "file_extension": ".py",
      "mimetype": "text/x-python",
      "name": "python",
      "nbconvert_exporter": "python",
      "pygments_lexer": "ipython3",
      "version": "3.9.12"
    },
    "orig_nbformat": 4,
    "colab": {
      "name": "UCL_DATA_1",
      "provenance": [],
      "collapsed_sections": [
        "gzutmpUspDFu",
        "HZWchmpNpDFx",
        "Yp5oVN0UpDFy",
        "e9iePf6-pDFy",
        "P5YlTHJ3pDFz",
        "rK05jzp3pDFz",
        "sLDMMvN1gRoM"
      ]
    }
  },
  "nbformat": 4,
  "nbformat_minor": 0
}